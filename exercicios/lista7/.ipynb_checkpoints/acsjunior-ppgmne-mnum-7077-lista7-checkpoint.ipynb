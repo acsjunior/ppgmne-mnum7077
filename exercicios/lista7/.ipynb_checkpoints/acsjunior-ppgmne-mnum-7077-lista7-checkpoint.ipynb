{
 "cells": [
  {
   "cell_type": "markdown",
   "metadata": {},
   "source": [
    "# Lista de exercícios 7 - MNUM-7077\n",
    "\n",
    "#### Antonio C. da Silva Júnior"
   ]
  },
  {
   "cell_type": "markdown",
   "metadata": {},
   "source": [
    "Bibliotecas e funções úteis:"
   ]
  },
  {
   "cell_type": "code",
   "execution_count": 5,
   "metadata": {},
   "outputs": [],
   "source": [
    "import itertools, copy\n",
    "import numpy as np\n",
    "import pyomo.environ as pyo\n",
    "from statistics import *"
   ]
  },
  {
   "cell_type": "code",
   "execution_count": 6,
   "metadata": {},
   "outputs": [],
   "source": [
    "# Função para declarar um modelo de designação:\n",
    "\n",
    "def declarar_modelo_designacao(cij):\n",
    "\n",
    "    # Declaração do modelo:\n",
    "    modelo = pyo.ConcreteModel()\n",
    "\n",
    "    # Índices dos pontos:\n",
    "    modelo.M = pyo.RangeSet(n)\n",
    "    modelo.N = pyo.RangeSet(n)\n",
    "\n",
    "    # Matriz de custos:\n",
    "    modelo.c = pyo.Param(modelo.N, modelo.M, initialize=lambda modelo_D, i, j: cij[i-1][j-1])\n",
    "\n",
    "    # Variáveis de decisão:\n",
    "    modelo.x = pyo.Var(modelo.N, modelo.M, within=pyo.Binary)\n",
    "\n",
    "    # Função objetivo:\n",
    "    def f_objetivo(modelo):\n",
    "        return sum(modelo.x[i,j] * modelo.c[i,j] for i in modelo.N for j in modelo.M)\n",
    "\n",
    "    modelo.objetivo = pyo.Objective(rule=f_objetivo, sense=pyo.minimize)\n",
    "\n",
    "    # Restrições\n",
    "\n",
    "    # Cada ponto só recebe de uma única origem:\n",
    "    def f_restr1(modelo, M):\n",
    "        return sum(modelo.x[i,M] for i in modelo.N if i!= M) == 1\n",
    "\n",
    "    modelo.restr1 = pyo.Constraint(modelo.M, rule=f_restr1)\n",
    "\n",
    "    # Cada ponto só envia para um destino:\n",
    "    def f_restr2(modelo, N):\n",
    "        return sum(modelo.x[N,j] for j in modelo.M if j != N) == 1\n",
    "\n",
    "    modelo.restr2 = pyo.Constraint(modelo.N, rule=f_restr2)\n",
    "    \n",
    "    return modelo"
   ]
  },
  {
   "cell_type": "code",
   "execution_count": 7,
   "metadata": {},
   "outputs": [],
   "source": [
    "# Função que resolve o modelo n vezes e devolve o resultado e um vetor com o tempo de cada execução:\n",
    "\n",
    "def resolver_modelo(modelo, n_exec=50):\n",
    "    t = []\n",
    "    for i in range(n_exec):\n",
    "        solver = pyo.SolverFactory('glpk')\n",
    "        result = solver.solve(modelo)\n",
    "        t.append(result.Solver.Time)\n",
    "    return t, result"
   ]
  },
  {
   "cell_type": "code",
   "execution_count": 8,
   "metadata": {},
   "outputs": [],
   "source": [
    "# Função para visualizar os arcos trajeto da solução:\n",
    "\n",
    "def obter_trajeto(modelo):\n",
    "    l = list(modelo.x.keys())\n",
    "    trajeto = []\n",
    "    for i in l:\n",
    "        if modelo.x[i]() is not None and modelo.x[i]() != 0:\n",
    "            trajeto.append(i)\n",
    "    print(trajeto)\n",
    "    return trajeto"
   ]
  },
  {
   "cell_type": "code",
   "execution_count": 9,
   "metadata": {},
   "outputs": [],
   "source": [
    "# Cálcula a média e o desvio padrão do tempo de execução:\n",
    "\n",
    "def obter_estatisticas(tempo):\n",
    "    media = round(mean(tempo), 4)\n",
    "    dp = round(stdev(tempo), 4)\n",
    "    msg = \"Tempo médio: {media} \\n Desvio padrão: {dp}\".format(media=media, dp=dp)\n",
    "    print(msg)"
   ]
  },
  {
   "cell_type": "code",
   "execution_count": 10,
   "metadata": {},
   "outputs": [],
   "source": [
    "# Função para identificar subrotas:\n",
    "\n",
    "def obter_subrotas(trajeto):\n",
    "    # Cria um vetor para cada ponto:\n",
    "    subrotas = [[arco] for arco in trajeto]\n",
    "    # Identifica as subrotas:\n",
    "    for i in range(len(trajeto)):\n",
    "        for j in range(len(trajeto)):\n",
    "            if i != j:\n",
    "                o = trajeto[i]\n",
    "                d = trajeto[j]\n",
    "                if o[0] == d[1] or o[1] == d[0]:\n",
    "                    subrotas[i].append(d)\n",
    "                \n",
    "    sorted_subrotas = []\n",
    "    for sub in subrotas:\n",
    "        sub.sort()\n",
    "        sorted_subrotas.append(sub)\n",
    "    \n",
    "\n",
    "    subrotas = [list(sub) for sub in set(tuple(sub) for sub in sorted_subrotas)]\n",
    "\n",
    "    if(len(subrotas) > 1):\n",
    "        msg = \"Há {n} subrota(s)!\".format(n=len(subrotas))\n",
    "        print(msg)\n",
    "        print(subrotas)\n",
    "    \n",
    "    return subrotas"
   ]
  },
  {
   "cell_type": "code",
   "execution_count": 11,
   "metadata": {},
   "outputs": [],
   "source": [
    "# Função para calcular o custo das subrotas\n",
    "\n",
    "def obter_custo_subrotas(subrotas):\n",
    "    dict_subrotas = {}\n",
    "    for i in range(len(subrotas)):\n",
    "        sub = subrotas[i]\n",
    "        custo = 0\n",
    "        for arco in sub:\n",
    "            custo += cij[arco[0]-1][arco[1]-1]\n",
    "        dict_subrotas[i] = {'subrota': sub,\n",
    "                            'custo': round(custo,2),}\n",
    "\n",
    "    print(dict_subrotas)"
   ]
  },
  {
   "cell_type": "markdown",
   "metadata": {},
   "source": [
    "## 1 - Exercício A (10 pontos)"
   ]
  },
  {
   "cell_type": "markdown",
   "metadata": {},
   "source": [
    "Matriz de custos:"
   ]
  },
  {
   "cell_type": "code",
   "execution_count": 13,
   "metadata": {},
   "outputs": [],
   "source": [
    "cij = [[0,    49,   46.6, 80.8, 67.2, 35.4, 68.7, 53.6, 57.8, 73.9],\n",
    "       [49,   0,    59.8, 37,   37.1, 23.4, 70.2, 48.1, 27,   41.8],\n",
    "       [46.6, 59.8, 0,    70.2, 47.3, 64.8, 23,   20.1, 83.2, 52.6],\n",
    "       [80.8, 37,   70.2, 0,    23.9, 60.4, 68.2, 51,   57.3, 21.3],\n",
    "       [67.2, 37.1, 47.3, 23.9, 0,    57.7, 44.6, 27.5, 63.5, 6.7],\n",
    "       [35.4, 23.4, 64.8, 60.4, 57.7, 0,    81.2, 60,   22.5, 63.3],\n",
    "       [68.7, 70.2, 23,   68.2, 44.6, 81.2, 0,    22.1, 96.3, 47.4],\n",
    "       [53.6, 48.1, 20.1, 51,   27.5, 60,   22.1, 0,    74.2, 32.6],\n",
    "       [57.8, 27,   83.2, 57.3, 63.5, 22.5, 96.3, 74.2, 0,    67.5],\n",
    "       [73.9, 41.8, 52.6, 21.3, 6.7,  63.3, 47.4, 32.6, 67.5, 0]]\n",
    "\n",
    "cij = [[0,    49,   46.6, 80.8],\n",
    "       [49,   0,    59.8, 37],\n",
    "       [46.6, 59.8, 0,    70.2],\n",
    "       [80.8, 37,   70.2, 0]]"
   ]
  },
  {
   "cell_type": "markdown",
   "metadata": {},
   "source": [
    "###  1.1 - Modelo com restrições de sub-rota de Dantzig"
   ]
  },
  {
   "cell_type": "markdown",
   "metadata": {},
   "source": [
    "<b>Parâmetros:</b>\n",
    "\n",
    "$c_{ij} = \\text{custo do deslocamento da origem } i \\; (i = 1,...,m) \\text{ para o destino } j \\; (j = 1,...,n)$\n",
    "\n",
    "<br>\n",
    "\n",
    "<b>Variáveis de decisão:</b>\n",
    "\n",
    "$\n",
    "    x_{ij}=\n",
    "    \\begin{cases}\n",
    "      1, & \\text{se o arco } (i,j) \\text{ faz parte do itinerário.} \\\\\n",
    "      0, & \\text{caso contrário}\n",
    "    \\end{cases}\n",
    "$\n",
    "\n",
    "<br>\n",
    "\n",
    "<b>Formulação:</b>\n",
    "\n",
    "$\\text{min }z = \\sum\\limits_{i=1}^{n} \\sum\\limits_{j=1}^{n} c_{ij} x_{ij}$\n",
    "\n",
    "Sujeito a:\n",
    "\n",
    "$\\sum\\limits_{i=1}^{n} x_{ij} = 1 \\;\\;\\; \\forall \\; j=1,...,n$\n",
    "\n",
    "$\\sum\\limits_{j=1}^{n} x_{ij} = 1 \\;\\;\\; \\forall \\; i=1,...,m$\n",
    "\n",
    "$\\sum\\limits_{i \\in Q} \\sum\\limits_{j \\notin Q} x_{ij} \\geq 1 \\;\\;\\; \\forall \\; Q \\subseteq \\{1,...,n\\}, 1 \\leq |Q| \\leq n-1$\n",
    "\n",
    "$x_{ij} \\in \\{0,1\\}$\n"
   ]
  },
  {
   "cell_type": "markdown",
   "metadata": {},
   "source": [
    "#### 1.1.1 - Resolução"
   ]
  },
  {
   "cell_type": "code",
   "execution_count": null,
   "metadata": {},
   "outputs": [],
   "source": [
    "# Número de pontos:\n",
    "n = len(cij)\n",
    "print(n)"
   ]
  },
  {
   "cell_type": "code",
   "execution_count": null,
   "metadata": {},
   "outputs": [],
   "source": [
    "# Lógica para inclusão dinâmica das restrições de sub-rota de Dantzig:\n",
    "\n",
    "# Combinações:\n",
    "\n",
    "c = []\n",
    "for i in range(n):\n",
    "    c.append([0,1])\n",
    "    \n",
    "comb = np.array(list(itertools.product(*c)))\n",
    "comb = np.flip(comb, axis=1)\n",
    "comb = comb[(np.sum(comb, axis=1) > 1) & (np.sum(comb, axis=1) < (n-1))] # remove todos os vazis, cheios e redundantes\n",
    "comb"
   ]
  },
  {
   "cell_type": "code",
   "execution_count": null,
   "metadata": {},
   "outputs": [],
   "source": [
    "# Definição dos conjuntos Q e não Q:\n",
    "Q = []\n",
    "nQ = []\n",
    "for i in range(len(comb)):\n",
    "    q = []\n",
    "    n_q = []\n",
    "    for j in range(len(comb[i])):\n",
    "        if comb[i,j] == 1:\n",
    "            q.append(j+1)\n",
    "        else:\n",
    "            n_q.append(j+1)\n",
    "    Q.append(q)\n",
    "    nQ.append(n_q)\n",
    "    \n",
    "print(Q)"
   ]
  },
  {
   "cell_type": "code",
   "execution_count": null,
   "metadata": {},
   "outputs": [],
   "source": [
    "print(nQ)"
   ]
  },
  {
   "cell_type": "code",
   "execution_count": null,
   "metadata": {},
   "outputs": [],
   "source": [
    "# Declaração do modelo:\n",
    "modelo_D = declarar_modelo_designacao(cij)\n",
    "\n",
    "# Inclusão das restrições de sub-rotas de Dantzig:\n",
    "modelo_D.restr_dantzig = pyo.ConstraintList()\n",
    "\n",
    "for q, nq in zip(Q, nQ):\n",
    "    modelo_D.restr_dantzig.add(sum(modelo_D.x[i,j] for i in q for j in nq) >= 1)"
   ]
  },
  {
   "cell_type": "code",
   "execution_count": null,
   "metadata": {},
   "outputs": [],
   "source": [
    "# Resolução:\n",
    "\n",
    "# 50 execuções para obter o tempo médio:\n",
    "tempo_D, resultado_D = resolver_modelo(modelo_D)\n",
    "print(resultado_D)"
   ]
  },
  {
   "cell_type": "code",
   "execution_count": null,
   "metadata": {},
   "outputs": [],
   "source": [
    "trajeto_D = obter_trajeto(modelo_D)"
   ]
  },
  {
   "cell_type": "code",
   "execution_count": null,
   "metadata": {
    "scrolled": true
   },
   "outputs": [],
   "source": [
    "obter_estatisticas(tempo_D)"
   ]
  },
  {
   "cell_type": "markdown",
   "metadata": {},
   "source": [
    "###  1.2 - Modelo com restrições de sub-rota MTZ"
   ]
  },
  {
   "cell_type": "markdown",
   "metadata": {},
   "source": [
    "<b>Parâmetros:</b>\n",
    "\n",
    "$c_{ij} = \\text{custo do deslocamento da origem } i \\; (i = 1,...,m) \\text{ para o destino } j \\; (j = 1,...,n)$\n",
    "\n",
    "<br>\n",
    "\n",
    "<b>Variáveis de decisão:</b>\n",
    "\n",
    "$\n",
    "    x_{ij}=\n",
    "    \\begin{cases}\n",
    "      1, & \\text{se o arco } (i,j) \\text{ faz parte do itinerário.} \\\\\n",
    "      0, & \\text{caso contrário}\n",
    "    \\end{cases}\n",
    "$\n",
    "\n",
    "$u_i = \\text{Variável auxiliar para definição das restrições de sub-rota MTZ} \\;\\;\\; \\forall \\; i=1,...,m$\n",
    "\n",
    "<br>\n",
    "\n",
    "<b>Formulação:</b>\n",
    "\n",
    "$\\text{min }z = \\sum\\limits_{i=1}^{n} \\sum\\limits_{j=1}^{n} c_{ij} x_{ij}$\n",
    "\n",
    "Sujeito a:\n",
    "\n",
    "$\\sum\\limits_{i=1}^{n} x_{ij} = 1 \\;\\;\\; \\forall \\; j=1,...,n$\n",
    "\n",
    "$\\sum\\limits_{j=1}^{n} x_{ij} = 1 \\;\\;\\; \\forall \\; i=1,...,m$\n",
    "\n",
    "$u_1 = 1$\n",
    "\n",
    "$u_i - u_j + nx_{ij} \\leq n-1 \\;\\;\\; \\forall \\; i,j \\in \\{2,...,n\\}, i \\neq j$\n",
    "\n",
    "$x_{ij} \\in \\{0,1\\}$\n",
    "\n",
    "$u_i \\geq 0$"
   ]
  },
  {
   "cell_type": "markdown",
   "metadata": {},
   "source": [
    "#### 1.2.1 - Resolução"
   ]
  },
  {
   "cell_type": "code",
   "execution_count": 12,
   "metadata": {},
   "outputs": [
    {
     "ename": "NameError",
     "evalue": "name 'cij' is not defined",
     "output_type": "error",
     "traceback": [
      "\u001b[1;31m---------------------------------------------------------------------------\u001b[0m",
      "\u001b[1;31mNameError\u001b[0m                                 Traceback (most recent call last)",
      "\u001b[1;32m<ipython-input-12-5f54caf160e1>\u001b[0m in \u001b[0;36m<module>\u001b[1;34m\u001b[0m\n\u001b[0;32m      1\u001b[0m \u001b[1;31m# Número de pontos:\u001b[0m\u001b[1;33m\u001b[0m\u001b[1;33m\u001b[0m\u001b[1;33m\u001b[0m\u001b[0m\n\u001b[1;32m----> 2\u001b[1;33m \u001b[0mn\u001b[0m \u001b[1;33m=\u001b[0m \u001b[0mlen\u001b[0m\u001b[1;33m(\u001b[0m\u001b[0mcij\u001b[0m\u001b[1;33m)\u001b[0m\u001b[1;33m\u001b[0m\u001b[1;33m\u001b[0m\u001b[0m\n\u001b[0m\u001b[0;32m      3\u001b[0m \u001b[0mprint\u001b[0m\u001b[1;33m(\u001b[0m\u001b[0mn\u001b[0m\u001b[1;33m)\u001b[0m\u001b[1;33m\u001b[0m\u001b[1;33m\u001b[0m\u001b[0m\n",
      "\u001b[1;31mNameError\u001b[0m: name 'cij' is not defined"
     ]
    }
   ],
   "source": [
    "# Número de pontos:\n",
    "n = len(cij)\n",
    "print(n)"
   ]
  },
  {
   "cell_type": "code",
   "execution_count": null,
   "metadata": {},
   "outputs": [],
   "source": [
    "# Declaração do modelo:\n",
    "modelo_MTZ = declarar_modelo_designacao(cij)\n",
    "\n",
    "# Índice para a variável auxiliar u:\n",
    "modelo_MTZ.U = pyo.RangeSet(2,n)\n",
    "\n",
    "# Váriavel auxiliar u:\n",
    "modelo_MTZ.u = pyo.Var(modelo_MTZ.N, within=pyo.NonNegativeIntegers,bounds=(0,n-1))\n",
    "\n",
    "# Restrições de sub-rota MTZ:\n",
    "def f_MTZ(modelo, i, j):\n",
    "    if i!=j: \n",
    "        return modelo.u[i] - modelo.u[j] + modelo.x[i,j] * n <= n-1\n",
    "    else:\n",
    "        return modelo.u[i] - modelo.u[i] == 0 # sem efeito no modelo\n",
    "    \n",
    "modelo_MTZ.restr_MTZ = pyo.Constraint(modelo_MTZ.U, modelo_MTZ.N, rule=f_MTZ)"
   ]
  },
  {
   "cell_type": "code",
   "execution_count": null,
   "metadata": {},
   "outputs": [],
   "source": [
    "# Resolução:\n",
    "\n",
    "# 50 execuções para obter o tempo médio:\n",
    "tempo_MTZ, resultado_MTZ = resolver_modelo(modelo_MTZ)\n",
    "print(resultado_MTZ)"
   ]
  },
  {
   "cell_type": "code",
   "execution_count": null,
   "metadata": {},
   "outputs": [],
   "source": [
    "trajeto_MTZ = obter_trajeto(modelo_MTZ)"
   ]
  },
  {
   "cell_type": "code",
   "execution_count": null,
   "metadata": {},
   "outputs": [],
   "source": [
    "obter_estatisticas(tempo_MTZ)"
   ]
  },
  {
   "cell_type": "markdown",
   "metadata": {},
   "source": [
    "###  1.3 - Modelo através da variante do branch and bound"
   ]
  },
  {
   "cell_type": "code",
   "execution_count": null,
   "metadata": {},
   "outputs": [],
   "source": [
    "# resolve o problema da designação\n",
    "# identifica a menor sub-rota\n",
    "# a quantidade de nós da sub-rota é a quantidade de novos problemas\n",
    "# cada novo problema é composto pelo problema anterior + uma nova restrição\n",
    "\n",
    "# Exemplo\n",
    "\n",
    "# sub-rota:\n",
    "# [1,2,4,1]\n",
    "\n",
    "# pontos: 1,2,4\n",
    "\n",
    "# P1:\n",
    "# c12 = 9999\n",
    "# c14 = 9999\n",
    "\n",
    "# P2:\n",
    "# c21 = 9999\n",
    "# c24 = 9999\n",
    "\n",
    "# P3:\n",
    "# c41 = 9999\n",
    "# c42 = 9999"
   ]
  },
  {
   "cell_type": "markdown",
   "metadata": {},
   "source": [
    "<b>Parâmetros:</b>\n",
    "\n",
    "$c_{ij} = \\text{custo do deslocamento da origem } i \\; (i = 1,...,m) \\text{ para o destino } j \\; (j = 1,...,n)$\n",
    "\n",
    "<br>\n",
    "\n",
    "<b>Variáveis de decisão:</b>\n",
    "\n",
    "$\n",
    "    x_{ij}=\n",
    "    \\begin{cases}\n",
    "      1, & \\text{se o arco } (i,j) \\text{ faz parte do itinerário.} \\\\\n",
    "      0, & \\text{caso contrário}\n",
    "    \\end{cases}\n",
    "$\n",
    "\n",
    "<br>\n",
    "\n",
    "<b>Formulação:</b>\n",
    "\n",
    "$\\text{min }z = \\sum\\limits_{i=1}^{n} \\sum\\limits_{j=1}^{n} c_{ij} x_{ij}$\n",
    "\n",
    "Sujeito a:\n",
    "\n",
    "$\\sum\\limits_{i=1}^{n} x_{ij} = 1 \\;\\;\\; \\forall \\; j=1,...,n$\n",
    "\n",
    "$\\sum\\limits_{j=1}^{n} x_{ij} = 1 \\;\\;\\; \\forall \\; i=1,...,m$\n",
    "\n",
    "$x_{ij} \\in \\{0,1\\}$\n"
   ]
  },
  {
   "cell_type": "markdown",
   "metadata": {},
   "source": [
    "#### 1.3.1 - Resolução do modelo de designação"
   ]
  },
  {
   "cell_type": "code",
   "execution_count": 14,
   "metadata": {},
   "outputs": [
    {
     "name": "stdout",
     "output_type": "stream",
     "text": [
      "4\n"
     ]
    }
   ],
   "source": [
    "# Número de pontos:\n",
    "n = len(cij)\n",
    "print(n)"
   ]
  },
  {
   "cell_type": "code",
   "execution_count": 15,
   "metadata": {},
   "outputs": [
    {
     "name": "stdout",
     "output_type": "stream",
     "text": [
      "\n",
      "Problem: \n",
      "- Name: unknown\n",
      "  Lower bound: 167.2\n",
      "  Upper bound: 167.2\n",
      "  Number of objectives: 1\n",
      "  Number of constraints: 9\n",
      "  Number of variables: 13\n",
      "  Number of nonzeros: 25\n",
      "  Sense: minimize\n",
      "Solver: \n",
      "- Status: ok\n",
      "  Termination condition: optimal\n",
      "  Statistics: \n",
      "    Branch and bound: \n",
      "      Number of bounded subproblems: 1\n",
      "      Number of created subproblems: 1\n",
      "  Error rc: 0\n",
      "  Time: 0.044882774353027344\n",
      "Solution: \n",
      "- number of solutions: 0\n",
      "  number of solutions displayed: 0\n",
      "\n"
     ]
    }
   ],
   "source": [
    "# Declaração do modelo de designação:\n",
    "modelo_B = declarar_modelo_designacao(cij)\n",
    "\n",
    "# Resolução:\n",
    "tempo_B, resultado_B = resolver_modelo(modelo_B, 50)\n",
    "print(resultado_B)"
   ]
  },
  {
   "cell_type": "code",
   "execution_count": 16,
   "metadata": {},
   "outputs": [
    {
     "name": "stdout",
     "output_type": "stream",
     "text": [
      "Tempo médio: 0.0452 \n",
      " Desvio padrão: 0.0025\n"
     ]
    }
   ],
   "source": [
    "obter_estatisticas(tempo_B)"
   ]
  },
  {
   "cell_type": "code",
   "execution_count": 17,
   "metadata": {},
   "outputs": [
    {
     "name": "stdout",
     "output_type": "stream",
     "text": [
      "[(1, 3), (2, 4), (3, 1), (4, 2)]\n"
     ]
    }
   ],
   "source": [
    "trajeto_B = obter_trajeto(modelo_B)"
   ]
  },
  {
   "cell_type": "markdown",
   "metadata": {},
   "source": [
    "Necessário resolver os seguintes problemas:\n",
    "\n",
    "- <b>Problema 00:</b>\n",
    "\n",
    "    -$c_{13}=9999$\n",
    "        \n",
    "<br>\n",
    "    \n",
    "- <b>Problema 01:</b>\n",
    "\n",
    "    -$c_{31}=9999$\n",
    "    \n",
    "<br>\n",
    "    \n",
    "- <b>Problema 02:</b>\n",
    "\n",
    "    -$c_{24}=9999$\n",
    "    \n",
    "    \n",
    "<br>\n",
    "    \n",
    "- <b>Problema 03:</b>\n",
    "\n",
    "    -$c_{42}=9999$"
   ]
  },
  {
   "cell_type": "markdown",
   "metadata": {},
   "source": [
    "#### 1.3.2 - Início do método branch and bound"
   ]
  },
  {
   "cell_type": "markdown",
   "metadata": {},
   "source": [
    "##### 1.3.2.1 - Problema 00"
   ]
  },
  {
   "cell_type": "code",
   "execution_count": 18,
   "metadata": {},
   "outputs": [
    {
     "data": {
      "text/plain": [
       "[[0, 49, 999999, 80.8],\n",
       " [49, 0, 59.8, 37],\n",
       " [46.6, 59.8, 0, 70.2],\n",
       " [80.8, 37, 70.2, 0]]"
      ]
     },
     "execution_count": 18,
     "metadata": {},
     "output_type": "execute_result"
    }
   ],
   "source": [
    "# Atualização da matriz de custos:\n",
    "cij_00 = copy.deepcopy(cij)\n",
    "cij_00[0][2] = 999999 # [1,3]\n",
    "\n",
    "cij_00"
   ]
  },
  {
   "cell_type": "code",
   "execution_count": 19,
   "metadata": {},
   "outputs": [
    {
     "name": "stdout",
     "output_type": "stream",
     "text": [
      "\n",
      "Problem: \n",
      "- Name: unknown\n",
      "  Lower bound: 202.8\n",
      "  Upper bound: 202.8\n",
      "  Number of objectives: 1\n",
      "  Number of constraints: 9\n",
      "  Number of variables: 13\n",
      "  Number of nonzeros: 25\n",
      "  Sense: minimize\n",
      "Solver: \n",
      "- Status: ok\n",
      "  Termination condition: optimal\n",
      "  Statistics: \n",
      "    Branch and bound: \n",
      "      Number of bounded subproblems: 1\n",
      "      Number of created subproblems: 1\n",
      "  Error rc: 0\n",
      "  Time: 0.04388284683227539\n",
      "Solution: \n",
      "- number of solutions: 0\n",
      "  number of solutions displayed: 0\n",
      "\n"
     ]
    }
   ],
   "source": [
    "# Declaração do modelo:\n",
    "modelo_B_00 = declarar_modelo_designacao(cij_00)\n",
    "\n",
    "# Resolução\n",
    "tempo_B_00, resultado_B_00 = resolver_modelo(modelo_B_00, 50)\n",
    "print(resultado_B_00)"
   ]
  },
  {
   "cell_type": "code",
   "execution_count": 20,
   "metadata": {},
   "outputs": [
    {
     "name": "stdout",
     "output_type": "stream",
     "text": [
      "Tempo médio: 0.0446 \n",
      " Desvio padrão: 0.0023\n"
     ]
    }
   ],
   "source": [
    "obter_estatisticas(tempo_B_00)"
   ]
  },
  {
   "cell_type": "code",
   "execution_count": 21,
   "metadata": {},
   "outputs": [
    {
     "name": "stdout",
     "output_type": "stream",
     "text": [
      "[(1, 2), (2, 4), (3, 1), (4, 3)]\n"
     ]
    }
   ],
   "source": [
    "trajeto_B_00 = obter_trajeto(modelo_B_00)"
   ]
  },
  {
   "cell_type": "markdown",
   "metadata": {},
   "source": [
    "Encontrado um <b>bound</b>!"
   ]
  },
  {
   "cell_type": "markdown",
   "metadata": {},
   "source": [
    "##### 1.3.2.2 - Problema 01"
   ]
  },
  {
   "cell_type": "code",
   "execution_count": 22,
   "metadata": {},
   "outputs": [
    {
     "data": {
      "text/plain": [
       "[[0, 49, 46.6, 80.8],\n",
       " [49, 0, 59.8, 37],\n",
       " [999999, 59.8, 0, 70.2],\n",
       " [80.8, 37, 70.2, 0]]"
      ]
     },
     "execution_count": 22,
     "metadata": {},
     "output_type": "execute_result"
    }
   ],
   "source": [
    "# Atualização da matriz de custos:\n",
    "cij_01 = copy.deepcopy(cij)\n",
    "cij_01[2][0] = 999999 # [3,1]\n",
    "\n",
    "cij_01"
   ]
  },
  {
   "cell_type": "code",
   "execution_count": 23,
   "metadata": {
    "scrolled": false
   },
   "outputs": [
    {
     "name": "stdout",
     "output_type": "stream",
     "text": [
      "\n",
      "Problem: \n",
      "- Name: unknown\n",
      "  Lower bound: 202.8\n",
      "  Upper bound: 202.8\n",
      "  Number of objectives: 1\n",
      "  Number of constraints: 9\n",
      "  Number of variables: 13\n",
      "  Number of nonzeros: 25\n",
      "  Sense: minimize\n",
      "Solver: \n",
      "- Status: ok\n",
      "  Termination condition: optimal\n",
      "  Statistics: \n",
      "    Branch and bound: \n",
      "      Number of bounded subproblems: 1\n",
      "      Number of created subproblems: 1\n",
      "  Error rc: 0\n",
      "  Time: 0.04288625717163086\n",
      "Solution: \n",
      "- number of solutions: 0\n",
      "  number of solutions displayed: 0\n",
      "\n"
     ]
    }
   ],
   "source": [
    "# Declaração do modelo:\n",
    "modelo_B_01 = declarar_modelo_designacao(cij_01)\n",
    "\n",
    "# Resolução\n",
    "tempo_B_01, resultado_B_01 = resolver_modelo(modelo_B_01, 50)\n",
    "print(resultado_B_01)"
   ]
  },
  {
   "cell_type": "code",
   "execution_count": 24,
   "metadata": {
    "scrolled": false
   },
   "outputs": [
    {
     "name": "stdout",
     "output_type": "stream",
     "text": [
      "Tempo médio: 0.0438 \n",
      " Desvio padrão: 0.0019\n"
     ]
    }
   ],
   "source": [
    "obter_estatisticas(tempo_B_01)"
   ]
  },
  {
   "cell_type": "code",
   "execution_count": 25,
   "metadata": {},
   "outputs": [
    {
     "name": "stdout",
     "output_type": "stream",
     "text": [
      "[(1, 3), (2, 1), (3, 4), (4, 2)]\n"
     ]
    }
   ],
   "source": [
    "trajeto_B_01 = obter_trajeto(modelo_B_01)"
   ]
  },
  {
   "cell_type": "markdown",
   "metadata": {},
   "source": [
    "Encontrado um <b>bound</b>!"
   ]
  },
  {
   "cell_type": "markdown",
   "metadata": {},
   "source": [
    "##### 1.3.2.3 - Problema 02"
   ]
  },
  {
   "cell_type": "code",
   "execution_count": 26,
   "metadata": {},
   "outputs": [
    {
     "data": {
      "text/plain": [
       "[[0, 49, 46.6, 80.8],\n",
       " [49, 0, 59.8, 999999],\n",
       " [46.6, 59.8, 0, 70.2],\n",
       " [80.8, 37, 70.2, 0]]"
      ]
     },
     "execution_count": 26,
     "metadata": {},
     "output_type": "execute_result"
    }
   ],
   "source": [
    "# Atualização da matriz de custos:\n",
    "cij_02 = copy.deepcopy(cij)\n",
    "cij_02[1][3] = 999999 # [2,4]\n",
    "\n",
    "cij_02"
   ]
  },
  {
   "cell_type": "code",
   "execution_count": 27,
   "metadata": {},
   "outputs": [
    {
     "name": "stdout",
     "output_type": "stream",
     "text": [
      "\n",
      "Problem: \n",
      "- Name: unknown\n",
      "  Lower bound: 202.8\n",
      "  Upper bound: 202.8\n",
      "  Number of objectives: 1\n",
      "  Number of constraints: 9\n",
      "  Number of variables: 13\n",
      "  Number of nonzeros: 25\n",
      "  Sense: minimize\n",
      "Solver: \n",
      "- Status: ok\n",
      "  Termination condition: optimal\n",
      "  Statistics: \n",
      "    Branch and bound: \n",
      "      Number of bounded subproblems: 1\n",
      "      Number of created subproblems: 1\n",
      "  Error rc: 0\n",
      "  Time: 0.04986691474914551\n",
      "Solution: \n",
      "- number of solutions: 0\n",
      "  number of solutions displayed: 0\n",
      "\n"
     ]
    }
   ],
   "source": [
    "# Declaração do modelo:\n",
    "modelo_B_02 = declarar_modelo_designacao(cij_02)\n",
    "\n",
    "# Resolução\n",
    "tempo_B_02, resultado_B_02 = resolver_modelo(modelo_B_02, 50)\n",
    "print(resultado_B_02)"
   ]
  },
  {
   "cell_type": "code",
   "execution_count": 28,
   "metadata": {},
   "outputs": [
    {
     "name": "stdout",
     "output_type": "stream",
     "text": [
      "Tempo médio: 0.0446 \n",
      " Desvio padrão: 0.0055\n"
     ]
    }
   ],
   "source": [
    "obter_estatisticas(tempo_B_02)"
   ]
  },
  {
   "cell_type": "code",
   "execution_count": 29,
   "metadata": {},
   "outputs": [
    {
     "name": "stdout",
     "output_type": "stream",
     "text": [
      "[(1, 3), (2, 1), (3, 4), (4, 2)]\n"
     ]
    }
   ],
   "source": [
    "trajeto_B_02 = obter_trajeto(modelo_B_02)"
   ]
  },
  {
   "cell_type": "markdown",
   "metadata": {},
   "source": [
    "Encontrado um <b>bound</b>!"
   ]
  },
  {
   "cell_type": "markdown",
   "metadata": {},
   "source": [
    "##### 1.3.2.3 - Problema 02"
   ]
  },
  {
   "cell_type": "code",
   "execution_count": 30,
   "metadata": {},
   "outputs": [
    {
     "data": {
      "text/plain": [
       "[[0, 49, 46.6, 80.8],\n",
       " [49, 0, 59.8, 37],\n",
       " [46.6, 59.8, 0, 70.2],\n",
       " [80.8, 999999, 70.2, 0]]"
      ]
     },
     "execution_count": 30,
     "metadata": {},
     "output_type": "execute_result"
    }
   ],
   "source": [
    "# Atualização da matriz de custos:\n",
    "cij_03 = copy.deepcopy(cij)\n",
    "cij_03[3][1] = 999999 # [4,2]\n",
    "\n",
    "cij_03"
   ]
  },
  {
   "cell_type": "code",
   "execution_count": 31,
   "metadata": {},
   "outputs": [
    {
     "name": "stdout",
     "output_type": "stream",
     "text": [
      "\n",
      "Problem: \n",
      "- Name: unknown\n",
      "  Lower bound: 202.8\n",
      "  Upper bound: 202.8\n",
      "  Number of objectives: 1\n",
      "  Number of constraints: 9\n",
      "  Number of variables: 13\n",
      "  Number of nonzeros: 25\n",
      "  Sense: minimize\n",
      "Solver: \n",
      "- Status: ok\n",
      "  Termination condition: optimal\n",
      "  Statistics: \n",
      "    Branch and bound: \n",
      "      Number of bounded subproblems: 1\n",
      "      Number of created subproblems: 1\n",
      "  Error rc: 0\n",
      "  Time: 0.043882131576538086\n",
      "Solution: \n",
      "- number of solutions: 0\n",
      "  number of solutions displayed: 0\n",
      "\n"
     ]
    }
   ],
   "source": [
    "# Declaração do modelo:\n",
    "modelo_B_03 = declarar_modelo_designacao(cij_03)\n",
    "\n",
    "# Resolução\n",
    "tempo_B_03, resultado_B_03 = resolver_modelo(modelo_B_03, 50)\n",
    "print(resultado_B_03)"
   ]
  },
  {
   "cell_type": "code",
   "execution_count": 32,
   "metadata": {},
   "outputs": [
    {
     "name": "stdout",
     "output_type": "stream",
     "text": [
      "Tempo médio: 0.0445 \n",
      " Desvio padrão: 0.0024\n"
     ]
    }
   ],
   "source": [
    "obter_estatisticas(tempo_B_03)"
   ]
  },
  {
   "cell_type": "code",
   "execution_count": 33,
   "metadata": {},
   "outputs": [
    {
     "name": "stdout",
     "output_type": "stream",
     "text": [
      "[(1, 3), (2, 1), (3, 4), (4, 2)]\n"
     ]
    }
   ],
   "source": [
    "trajeto_B_02 = obter_trajeto(modelo_B_02)"
   ]
  },
  {
   "cell_type": "markdown",
   "metadata": {},
   "source": [
    "Encontrado um <b>bound</b>!"
   ]
  },
  {
   "cell_type": "code",
   "execution_count": 132,
   "metadata": {},
   "outputs": [],
   "source": [
    "def obter_subrotas(trajeto):\n",
    "    \n",
    "    # Ordena o trajeto:\n",
    "    out = [trajeto[0]]\n",
    "    while len(out) < n:\n",
    "        for arco_atual in trajeto:\n",
    "            ultimo_arco = out[len(out)-1]\n",
    "            if ultimo_arco[1] == arco_atual[0]:\n",
    "                if arco_atual not in out:\n",
    "                    out.append(arco_atual)\n",
    "        if len(out) < n:\n",
    "            for proximo_arco in trajeto:\n",
    "                if proximo_arco not in out:\n",
    "                    out.append(proximo_arco)\n",
    "\n",
    "    # Separa as subrotas, haja:\n",
    "    subrota = []\n",
    "    subrotas = []\n",
    "    for arco in out:\n",
    "        if len(subrota) == 0:\n",
    "            subrota.append(arco)\n",
    "        else:\n",
    "            if arco[0] == subrota[len(subrota)-1][1]:\n",
    "                subrota.append(arco)\n",
    "            else:\n",
    "                subrotas.append(subrota)\n",
    "                subrota = []\n",
    "                subrota.append(arco)\n",
    "    subrotas.append(subrota)\n",
    "    \n",
    "    if(len(subrotas) > 1):\n",
    "        msg = \"Há {n} subrotas!\".format(n=len(subrotas))\n",
    "        print(msg)\n",
    "        print(subrotas)\n",
    "    else:\n",
    "        msg = \"Não há subrotas!\"\n",
    "        \n",
    "    return subrotas"
   ]
  },
  {
   "cell_type": "code",
   "execution_count": 135,
   "metadata": {},
   "outputs": [],
   "source": [
    "subrotas = obter_subrotas(trajeto_B_00)"
   ]
  },
  {
   "cell_type": "code",
   "execution_count": null,
   "metadata": {},
   "outputs": [],
   "source": []
  },
  {
   "cell_type": "code",
   "execution_count": null,
   "metadata": {},
   "outputs": [],
   "source": []
  },
  {
   "cell_type": "code",
   "execution_count": null,
   "metadata": {},
   "outputs": [],
   "source": []
  }
 ],
 "metadata": {
  "kernelspec": {
   "display_name": "Python 3",
   "language": "python",
   "name": "python3"
  },
  "language_info": {
   "codemirror_mode": {
    "name": "ipython",
    "version": 3
   },
   "file_extension": ".py",
   "mimetype": "text/x-python",
   "name": "python",
   "nbconvert_exporter": "python",
   "pygments_lexer": "ipython3",
   "version": "3.7.9"
  }
 },
 "nbformat": 4,
 "nbformat_minor": 4
}
