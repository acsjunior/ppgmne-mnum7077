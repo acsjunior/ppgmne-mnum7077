{
 "cells": [
  {
   "cell_type": "markdown",
   "metadata": {},
   "source": [
    "# Lista de exercícios 7 - MNUM-7077\n",
    "\n",
    "#### Antonio C. da Silva Júnior"
   ]
  },
  {
   "cell_type": "markdown",
   "metadata": {},
   "source": [
    "## Exercício 1"
   ]
  },
  {
   "cell_type": "markdown",
   "metadata": {},
   "source": [
    "Matriz de custos:"
   ]
  },
  {
   "cell_type": "code",
   "execution_count": 1,
   "metadata": {},
   "outputs": [],
   "source": [
    "cij = [[0, 49, 46,6, 80,8, 67,2, 35,4, 68,7, 53,6, 57,8, 73,9],\n",
    "       [49, 0, 59,8, 37, 37,1, 23,4, 70,2, 48,1, 27, 41,8],\n",
    "       [46,6, 59,8, 0, 70,2, 47,3, 64,8, 23, 20,1, 83,2, 52,6],\n",
    "       [80,8, 37, 70,2, 0, 23,9, 60,4, 68,2, 51, 57,3, 21,3],\n",
    "       [67,2, 37,1, 47,3, 23,9, 0, 57,7, 44,6, 27,5, 63,5, 6,7],\n",
    "       [35,4, 23,4, 64,8, 60,4, 57,7, 0, 81,2, 60, 22,5, 63,3],\n",
    "       [68,7, 70,2, 23, 68,2, 44,6, 81,2, 0, 22,1, 96,3, 47,4],\n",
    "       [53,6, 48,1, 20,1, 51, 27,5, 60, 22,1, 0, 74,2, 32,6],\n",
    "       [57,8, 27, 83,2, 57,3, 63,5, 22,5, 96,3, 74,2, 0, 67,5],\n",
    "       [73,9, 41,8, 52,6, 21,3, 6,7, 63,3, 47,4, 32,6, 67,5, 0]]"
   ]
  },
  {
   "cell_type": "markdown",
   "metadata": {},
   "source": [
    "###  Modelo com restrições de sub-rota de Dantzig"
   ]
  },
  {
   "cell_type": "markdown",
   "metadata": {},
   "source": [
    "Objetivo:\n",
    "\n",
    "$\\text{min z} = \\sum\\limits_{i=1}^{n} \\sum\\limits_{j=1}^{n} c_{ij} x_{ij}$\n",
    "\n",
    "<br>\n",
    "\n",
    "Sujeito a:\n",
    "\n",
    "$\\sum\\limits_{i=1}^{n} x_{ij} = 1 \\;\\;\\; \\forall \\; j=1,...,n$\n",
    "\n",
    "$\\sum\\limits_{j=1}^{n} x_{ij} = 1 \\;\\;\\; \\forall \\; i=1,...,n$\n",
    "\n",
    "$\\sum\\limits_{i \\in Q} \\sum\\limits_{j \\notin Q} x_{ij} \\geq 1 \\;\\;\\; \\forall \\; Q \\subseteq \\{1,...,n\\}, 1 \\leq |Q| \\leq n-1$\n",
    "\n",
    "$x_{ij} \\in \\{0,1\\}$\n"
   ]
  },
  {
   "cell_type": "code",
   "execution_count": null,
   "metadata": {},
   "outputs": [],
   "source": []
  }
 ],
 "metadata": {
  "kernelspec": {
   "display_name": "Python 3",
   "language": "python",
   "name": "python3"
  },
  "language_info": {
   "codemirror_mode": {
    "name": "ipython",
    "version": 3
   },
   "file_extension": ".py",
   "mimetype": "text/x-python",
   "name": "python",
   "nbconvert_exporter": "python",
   "pygments_lexer": "ipython3",
   "version": "3.7.9"
  }
 },
 "nbformat": 4,
 "nbformat_minor": 4
}
