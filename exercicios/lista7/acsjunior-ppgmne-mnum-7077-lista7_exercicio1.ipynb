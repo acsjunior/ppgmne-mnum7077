{
 "cells": [
  {
   "cell_type": "markdown",
   "metadata": {},
   "source": [
    "# Lista de exercícios 7 - MNUM-7077\n",
    "\n",
    "## Exercício 1 (10 pontos)\n",
    "\n",
    "#### Antonio C. da Silva Júnior"
   ]
  },
  {
   "cell_type": "markdown",
   "metadata": {},
   "source": [
    "Bibliotecas e funções úteis:"
   ]
  },
  {
   "cell_type": "code",
   "execution_count": 1,
   "metadata": {},
   "outputs": [],
   "source": [
    "import itertools, copy, time\n",
    "import numpy as np\n",
    "import pyomo.environ as pyo\n",
    "import pandas as pd\n",
    "from statistics import *"
   ]
  },
  {
   "cell_type": "code",
   "execution_count": 2,
   "metadata": {},
   "outputs": [],
   "source": [
    "# Função para criação dos conjuntos que irão originar as restrições de sub-rota de Dantzig\n",
    "def obter_conjuntos_dantzig(cij):\n",
    "    n = len(cij)\n",
    "\n",
    "    # Combinações:\n",
    "    c = []\n",
    "    for i in range(n):\n",
    "        c.append([0,1])\n",
    "\n",
    "    comb = np.array(list(itertools.product(*c)))\n",
    "    comb = np.flip(comb, axis=1)\n",
    "    comb = comb[(np.sum(comb, axis=1) > 1) & (np.sum(comb, axis=1) < (n-1))] # remove todos os vazis, cheios e redundantes\n",
    "\n",
    "    # Definição dos conjuntos Q e não Q:\n",
    "    Q = []\n",
    "    nQ = []\n",
    "    for i in range(len(comb)):\n",
    "        q = []\n",
    "        n_q = []\n",
    "        for j in range(len(comb[i])):\n",
    "            if comb[i,j] == 1:\n",
    "                q.append(j+1)\n",
    "            else:\n",
    "                n_q.append(j+1)\n",
    "        Q.append(q)\n",
    "        nQ.append(n_q)\n",
    "\n",
    "    return Q, nQ"
   ]
  },
  {
   "cell_type": "code",
   "execution_count": 3,
   "metadata": {},
   "outputs": [],
   "source": [
    "# Função para declarar um modelo de designação:\n",
    "\n",
    "def declarar_modelo_designacao(cij):\n",
    "    \n",
    "    n = len(cij)\n",
    "\n",
    "    # Declaração do modelo:\n",
    "    modelo = pyo.ConcreteModel()\n",
    "\n",
    "    # Índices dos pontos:\n",
    "    modelo.M = pyo.RangeSet(n)\n",
    "    modelo.N = pyo.RangeSet(n)\n",
    "\n",
    "    # Matriz de custos:\n",
    "    modelo.c = pyo.Param(modelo.N, modelo.M, initialize=lambda modelo_D, i, j: cij[i-1][j-1])\n",
    "\n",
    "    # Variáveis de decisão:\n",
    "    modelo.x = pyo.Var(modelo.N, modelo.M, within=pyo.Binary)\n",
    "\n",
    "    # Função objetivo:\n",
    "    def f_objetivo(modelo):\n",
    "        return sum(modelo.x[i,j] * modelo.c[i,j] for i in modelo.N for j in modelo.M)\n",
    "\n",
    "    modelo.objetivo = pyo.Objective(rule=f_objetivo, sense=pyo.minimize)\n",
    "\n",
    "    # Restrições\n",
    "\n",
    "    # Cada ponto só recebe de uma única origem:\n",
    "    def f_restr1(modelo, M):\n",
    "        return sum(modelo.x[i,M] for i in modelo.N if i!= M) == 1\n",
    "\n",
    "    modelo.restr1 = pyo.Constraint(modelo.M, rule=f_restr1)\n",
    "\n",
    "    # Cada ponto só envia para um destino:\n",
    "    def f_restr2(modelo, N):\n",
    "        return sum(modelo.x[N,j] for j in modelo.M if j != N) == 1\n",
    "\n",
    "    modelo.restr2 = pyo.Constraint(modelo.N, rule=f_restr2)\n",
    "    \n",
    "    return modelo"
   ]
  },
  {
   "cell_type": "code",
   "execution_count": 4,
   "metadata": {},
   "outputs": [],
   "source": [
    "# Função que resolve o modelo n vezes e devolve o resultado e um vetor com o tempo de cada execução:\n",
    "\n",
    "def resolver_modelo(modelo, n_exec=50):\n",
    "    t = []\n",
    "    for i in range(n_exec):\n",
    "        solver = pyo.SolverFactory('glpk')\n",
    "        result = solver.solve(modelo)\n",
    "        t.append(result.Solver.Time)\n",
    "    return t, result"
   ]
  },
  {
   "cell_type": "code",
   "execution_count": 5,
   "metadata": {},
   "outputs": [],
   "source": [
    "# Função para visualizar os arcos do trajeto:\n",
    "\n",
    "def obter_trajeto(modelo, cij):\n",
    "    n = len(cij)\n",
    "    \n",
    "    l = list(modelo.x.keys())\n",
    "    trajeto = []\n",
    "    for i in l:\n",
    "        if modelo.x[i]() is not None and modelo.x[i]() != 0:\n",
    "            trajeto.append(i)\n",
    "            \n",
    "            \n",
    "    # Ordena o trajeto:\n",
    "    trajeto_ordenado = [trajeto[0]]\n",
    "    while len(trajeto_ordenado) < n:\n",
    "        for i in range(n):\n",
    "            if i+1 == n:\n",
    "                for proximo_arco in trajeto:\n",
    "                    if proximo_arco not in trajeto_ordenado:\n",
    "                        trajeto_ordenado.append(proximo_arco)\n",
    "                        break\n",
    "            else:\n",
    "                ultimo_arco = trajeto_ordenado[len(trajeto_ordenado)-1]\n",
    "                for arco_atual in trajeto:\n",
    "                    if arco_atual not in trajeto_ordenado:\n",
    "                        if arco_atual[0] == ultimo_arco[1]:\n",
    "                            trajeto_ordenado.append(arco_atual)\n",
    "                            break\n",
    "    \n",
    "    print(trajeto_ordenado)\n",
    "    \n",
    "    return trajeto_ordenado"
   ]
  },
  {
   "cell_type": "code",
   "execution_count": 6,
   "metadata": {},
   "outputs": [],
   "source": [
    "# Cálcula a média e o desvio padrão do tempo de execução:\n",
    "\n",
    "def obter_estatisticas(tempo):\n",
    "    media = round(mean(tempo), 4)\n",
    "    dp = round(stdev(tempo), 4)\n",
    "    msg = \" Tempo médio: {media} \\n Desvio padrão: {dp}\".format(media=media, dp=dp)\n",
    "    print(msg)"
   ]
  },
  {
   "cell_type": "code",
   "execution_count": 7,
   "metadata": {},
   "outputs": [],
   "source": [
    "# Função para identificar subrotas:\n",
    "\n",
    "def obter_subrotas(trajeto):\n",
    "        \n",
    "    # Separa as subrotas, caso haja:\n",
    "    subrota = []\n",
    "    subrotas = []\n",
    "    for arco in trajeto:\n",
    "        if len(subrota) == 0:\n",
    "            subrota.append(arco)\n",
    "        else:\n",
    "            if arco[0] == subrota[len(subrota)-1][1]:\n",
    "                subrota.append(arco)\n",
    "            else:\n",
    "                subrotas.append(subrota)\n",
    "                subrota = []\n",
    "                subrota.append(arco)\n",
    "    subrotas.append(subrota)\n",
    "    \n",
    "    if(len(subrotas) > 1):\n",
    "        msg = \"Há {n} subrotas!\".format(n=len(subrotas))\n",
    "    else:\n",
    "        msg = \"Não há subrotas!\"\n",
    "        \n",
    "    print(msg)\n",
    "    print(subrotas)\n",
    "        \n",
    "    return subrotas"
   ]
  },
  {
   "cell_type": "code",
   "execution_count": 8,
   "metadata": {},
   "outputs": [],
   "source": [
    "# Função para calcular o custo das subrotas\n",
    "\n",
    "def obter_custo_subrotas(subrotas):\n",
    "    dict_subrotas = {}\n",
    "    for i in range(len(subrotas)):\n",
    "        sub = subrotas[i]\n",
    "        custo = 0\n",
    "        for arco in sub:\n",
    "            custo += cij[arco[0]-1][arco[1]-1]\n",
    "        dict_subrotas[i] = {'subrota': sub,\n",
    "                            'custo': round(custo,2),}\n",
    "\n",
    "    print(dict_subrotas)\n",
    "    \n",
    "    return dict_subrotas"
   ]
  },
  {
   "cell_type": "code",
   "execution_count": 9,
   "metadata": {},
   "outputs": [],
   "source": [
    " # Calcula o custo do trajeto (quando em formato de lista):\n",
    "    \n",
    "def obter_custo_trajeto(trajeto, cij):\n",
    "    custos = []\n",
    "    for i in range(len(trajeto)):\n",
    "        if i == 0:\n",
    "            custos.append(0)\n",
    "        else:\n",
    "            no_anterior = trajeto[i-1]\n",
    "            no_atual = trajeto[i]\n",
    "            custo = cij[no_anterior][no_atual]\n",
    "            custos.append(custo)\n",
    "    return sum(custos)"
   ]
  },
  {
   "cell_type": "code",
   "execution_count": 10,
   "metadata": {},
   "outputs": [],
   "source": [
    "# Função para resolver pela heurística de inserção do mais próximo ou mais distante\n",
    "\n",
    "def resolver_heuristica_insercao(cij, no_inicial=1, mais_distante=False):\n",
    "    \n",
    "    no_inicial -= no_inicial\n",
    "    n = len(cij) # Número de pontos:\n",
    "    trajeto = [no_inicial] # Inclui o nó inicial no trajeto:\n",
    "\n",
    "    # Identifica o nó mais próximo (ou mais distante) dos nós do trajeto:\n",
    "    def escolher_no(trajeto, cij, no_inicial, mais_distante):\n",
    "        no_escolhido = None\n",
    "        no_ref = None\n",
    "        if mais_distante:\n",
    "            custo_final = -1*float('inf')\n",
    "        else:\n",
    "            custo_final = float('inf')\n",
    "\n",
    "        for no in trajeto:\n",
    "            for j in range(n):\n",
    "                custo = cij[no][j]\n",
    "                if j!= no and j not in trajeto:\n",
    "                    if mais_distante:\n",
    "                        if custo > custo_final:\n",
    "                            custo_final = custo\n",
    "                            no_escolhido = j\n",
    "                            no_ref = no\n",
    "                    else:\n",
    "                        if custo < custo_final:\n",
    "                            custo_final = custo\n",
    "                            no_escolhido = j\n",
    "                            no_ref = no\n",
    "        if no_escolhido is not None:\n",
    "            return no_escolhido, no_ref, custo_final\n",
    "        else:\n",
    "            return None\n",
    "    \n",
    "    # Adiciona o novo nó no trajeto, na posição que resulta o menor custo\n",
    "    def incluir_novo_no(trajeto, cij, no_candidato):\n",
    "        novo_trajeto = []\n",
    "        if len(trajeto) == 1:\n",
    "            novo_trajeto = [no_inicial, no_candidato, no_inicial]\n",
    "        else:\n",
    "            custo_final = float('inf')\n",
    "            posicao_insercao = None\n",
    "            for i in range(1, len(trajeto)):\n",
    "                no_atual = trajeto[i]\n",
    "                no_anterior = trajeto[i-1]\n",
    "                custo_atual = cij[no_anterior][no_atual]\n",
    "                novo_custo = cij[no_anterior][no_candidato] + cij[no_candidato][no_atual]\n",
    "                custo_atualizado = novo_custo - custo_atual\n",
    "                if custo_atualizado < custo_final:\n",
    "                    custo_final = custo_atualizado\n",
    "                    posicao_insercao = i\n",
    "            novo_trajeto = trajeto[0:posicao_insercao] + [no_candidato] + trajeto[posicao_insercao:len(trajeto)] \n",
    "        return novo_trajeto\n",
    "    \n",
    "    # Executa as iterações:\n",
    "    while len(trajeto) <= n:\n",
    "        no_candidato, no_referencia, custo = escolher_no(trajeto, cij, no_inicial, mais_distante)\n",
    "        trajeto = incluir_novo_no(trajeto, cij, no_candidato)\n",
    "        \n",
    "    # Cálcula o custo final do trajeto:\n",
    "    custo_final = obter_custo_trajeto(trajeto, cij)\n",
    "    \n",
    "    # Adiciona 1 em cada valor de nós (para que os índices fiquem de 1 a n)\n",
    "    trajeto_final = [no+1 for no in trajeto]\n",
    "    \n",
    "    return trajeto_final, custo_final"
   ]
  },
  {
   "cell_type": "code",
   "execution_count": 11,
   "metadata": {},
   "outputs": [],
   "source": [
    "def resolver_heuristica_insercao_economica(cij, no_inicial=1):\n",
    "    n = len(cij)\n",
    "    no_inicial -= 1\n",
    "    trajeto = [no_inicial, no_inicial]\n",
    "    \n",
    "    # Insere no trajeto o nó que resulta na rota mais econômica\n",
    "    for k in range(n-1):\n",
    "        custo_final = float('inf')\n",
    "        posicao_insercao = None\n",
    "        no_insercao = None\n",
    "        for i in range(n):\n",
    "            no_candidato = i\n",
    "            if no_candidato not in trajeto:\n",
    "                for j in range(1, len(trajeto)):\n",
    "                    no_atual = trajeto[j]\n",
    "                    no_anterior = trajeto[j-1]\n",
    "                    custo_atual = cij[no_anterior][no_atual]\n",
    "                    novo_custo = cij[no_anterior][no_candidato] + cij[no_candidato][no_atual]\n",
    "                    custo_atualizado = novo_custo - custo_atual\n",
    "                    if custo_atualizado < custo_final:\n",
    "                        custo_final = custo_atualizado\n",
    "                        posicao_insercao = j\n",
    "                        no_insercao = no_candidato\n",
    "        trajeto = trajeto[0:posicao_insercao] + [no_insercao] + trajeto[posicao_insercao:len(trajeto)]\n",
    "    \n",
    "    # Cálcula o custo final do trajeto:\n",
    "    custo_final = obter_custo_trajeto(trajeto, cij)\n",
    "    \n",
    "    # Adiciona 1 em cada valor de nós (para que os índices fiquem de 1 a n)\n",
    "    novo_trajeto = [no+1 for no in trajeto]\n",
    "    \n",
    "    return novo_trajeto, custo_final"
   ]
  },
  {
   "cell_type": "markdown",
   "metadata": {},
   "source": [
    "Matriz de custos:"
   ]
  },
  {
   "cell_type": "code",
   "execution_count": 12,
   "metadata": {},
   "outputs": [],
   "source": [
    "cij = [[0,    49,   46.6, 80.8],\n",
    "       [49,   0,    59.8, 37],\n",
    "       [46.6, 59.8, 0,    70.2],\n",
    "       [80.8, 37,   70.2, 0]]"
   ]
  },
  {
   "cell_type": "markdown",
   "metadata": {},
   "source": [
    "###  1 - Modelo com restrições de sub-rota de Dantzig"
   ]
  },
  {
   "cell_type": "markdown",
   "metadata": {},
   "source": [
    "<b>Parâmetros:</b>\n",
    "\n",
    "$c_{ij} = \\text{custo do deslocamento da origem } i \\; (i = 1,...,m) \\text{ para o destino } j \\; (j = 1,...,n)$\n",
    "\n",
    "<br>\n",
    "\n",
    "<b>Variáveis de decisão:</b>\n",
    "\n",
    "$\n",
    "    x_{ij}=\n",
    "    \\begin{cases}\n",
    "      1, & \\text{se o arco } (i,j) \\text{ faz parte do itinerário.} \\\\\n",
    "      0, & \\text{caso contrário}\n",
    "    \\end{cases}\n",
    "$\n",
    "\n",
    "<br>\n",
    "\n",
    "<b>Formulação:</b>\n",
    "\n",
    "$\\text{min }z = \\sum\\limits_{i=1}^{n} \\sum\\limits_{j=1}^{n} c_{ij} x_{ij}$\n",
    "\n",
    "Sujeito a:\n",
    "\n",
    "$\\sum\\limits_{i=1}^{n} x_{ij} = 1 \\;\\;\\; \\forall \\; j=1,...,n$\n",
    "\n",
    "$\\sum\\limits_{j=1}^{n} x_{ij} = 1 \\;\\;\\; \\forall \\; i=1,...,m$\n",
    "\n",
    "$\\sum\\limits_{i \\in Q} \\sum\\limits_{j \\notin Q} x_{ij} \\geq 1 \\;\\;\\; \\forall \\; Q \\subseteq \\{1,...,n\\}, 1 \\leq |Q| \\leq n-1$\n",
    "\n",
    "$x_{ij} \\in \\{0,1\\}$\n"
   ]
  },
  {
   "cell_type": "markdown",
   "metadata": {},
   "source": [
    "#### 1.1 - Resolução"
   ]
  },
  {
   "cell_type": "code",
   "execution_count": 14,
   "metadata": {},
   "outputs": [
    {
     "name": "stdout",
     "output_type": "stream",
     "text": [
      " Tempo médio: 0.0013 \n",
      " Desvio padrão: 0.0005\n"
     ]
    }
   ],
   "source": [
    "# Preparação do modelo para resolução via solver GLPK\n",
    "# Calcula o tempo médio de 100 execuções para o relatório final\n",
    "\n",
    "tempo_preparacao_D = []\n",
    "n_exec = 0\n",
    "\n",
    "while n_exec < 100:\n",
    "    start_time = time.time()\n",
    "\n",
    "    # Lógica para criação dos conjuntos que irão originar as restrições de sub-rota de Dantzig\n",
    "    Q, nQ = obter_conjuntos_dantzig(cij)\n",
    "           \n",
    "    # Declaração do modelo de designação:\n",
    "    modelo_D = declarar_modelo_designacao(cij)\n",
    "\n",
    "    # Inclusão das restrições de sub-rotas de Dantzig:\n",
    "    modelo_D.restr_dantzig = pyo.ConstraintList()\n",
    "    for q, nq in zip(Q, nQ):\n",
    "        modelo_D.restr_dantzig.add(sum(modelo_D.x[i,j] for i in q for j in nq) >= 1)\n",
    "    \n",
    "    n_exec +=1\n",
    "    tempo_preparacao_D.append(time.time() - start_time)\n",
    "\n",
    "# Estatísticas da preparação do modelo:\n",
    "obter_estatisticas(tempo_preparacao_D)"
   ]
  },
  {
   "cell_type": "code",
   "execution_count": 15,
   "metadata": {},
   "outputs": [
    {
     "name": "stdout",
     "output_type": "stream",
     "text": [
      "\n",
      "Problem: \n",
      "- Name: unknown\n",
      "  Lower bound: 202.8\n",
      "  Upper bound: 202.8\n",
      "  Number of objectives: 1\n",
      "  Number of constraints: 15\n",
      "  Number of variables: 13\n",
      "  Number of nonzeros: 49\n",
      "  Sense: minimize\n",
      "Solver: \n",
      "- Status: ok\n",
      "  Termination condition: optimal\n",
      "  Statistics: \n",
      "    Branch and bound: \n",
      "      Number of bounded subproblems: 1\n",
      "      Number of created subproblems: 1\n",
      "  Error rc: 0\n",
      "  Time: 0.04089045524597168\n",
      "Solution: \n",
      "- number of solutions: 0\n",
      "  number of solutions displayed: 0\n",
      "\n"
     ]
    }
   ],
   "source": [
    "# Resolução através do solver GLPK\n",
    "# Calcula o tempo médio de 100 execuções para o relatório final\n",
    "\n",
    "tempo_resolucao_D, resultado_D = resolver_modelo(modelo_D, n_exec=100)\n",
    "print(resultado_D)"
   ]
  },
  {
   "cell_type": "code",
   "execution_count": 16,
   "metadata": {},
   "outputs": [
    {
     "name": "stdout",
     "output_type": "stream",
     "text": [
      "[(1, 2), (2, 4), (4, 3), (3, 1)]\n"
     ]
    }
   ],
   "source": [
    "trajeto_D = obter_trajeto(modelo_D, cij)"
   ]
  },
  {
   "cell_type": "code",
   "execution_count": 17,
   "metadata": {
    "scrolled": true
   },
   "outputs": [
    {
     "name": "stdout",
     "output_type": "stream",
     "text": [
      " Tempo médio: 0.0425 \n",
      " Desvio padrão: 0.0025\n"
     ]
    }
   ],
   "source": [
    "# Estatísticas da resolução do modelo:\n",
    "obter_estatisticas(tempo_resolucao_D)"
   ]
  },
  {
   "cell_type": "markdown",
   "metadata": {},
   "source": [
    "###  2 - Modelo com restrições de sub-rota MTZ"
   ]
  },
  {
   "cell_type": "markdown",
   "metadata": {},
   "source": [
    "<b>Parâmetros:</b>\n",
    "\n",
    "$c_{ij} = \\text{custo do deslocamento da origem } i \\; (i = 1,...,m) \\text{ para o destino } j \\; (j = 1,...,n)$\n",
    "\n",
    "<br>\n",
    "\n",
    "<b>Variáveis de decisão:</b>\n",
    "\n",
    "$\n",
    "    x_{ij}=\n",
    "    \\begin{cases}\n",
    "      1, & \\text{se o arco } (i,j) \\text{ faz parte do itinerário.} \\\\\n",
    "      0, & \\text{caso contrário}\n",
    "    \\end{cases}\n",
    "$\n",
    "\n",
    "$u_i = \\text{Variável auxiliar para definição das restrições de sub-rota MTZ} \\;\\;\\; \\forall \\; i=1,...,m$\n",
    "\n",
    "<br>\n",
    "\n",
    "<b>Formulação:</b>\n",
    "\n",
    "$\\text{min }z = \\sum\\limits_{i=1}^{n} \\sum\\limits_{j=1}^{n} c_{ij} x_{ij}$\n",
    "\n",
    "Sujeito a:\n",
    "\n",
    "$\\sum\\limits_{i=1}^{n} x_{ij} = 1 \\;\\;\\; \\forall \\; j=1,...,n$\n",
    "\n",
    "$\\sum\\limits_{j=1}^{n} x_{ij} = 1 \\;\\;\\; \\forall \\; i=1,...,m$\n",
    "\n",
    "$u_1 = 1$\n",
    "\n",
    "$u_i - u_j + nx_{ij} \\leq n-1 \\;\\;\\; \\forall \\; i,j \\in \\{2,...,n\\}, i \\neq j$\n",
    "\n",
    "$x_{ij} \\in \\{0,1\\}$\n",
    "\n",
    "$u_i \\geq 0$"
   ]
  },
  {
   "cell_type": "markdown",
   "metadata": {},
   "source": [
    "#### 2.1 - Resolução"
   ]
  },
  {
   "cell_type": "code",
   "execution_count": 18,
   "metadata": {},
   "outputs": [
    {
     "name": "stdout",
     "output_type": "stream",
     "text": [
      " Tempo médio: 0.0013 \n",
      " Desvio padrão: 0.0005\n"
     ]
    }
   ],
   "source": [
    "# Preparação do modelo para resolução via solver GLPK\n",
    "# Calcula o tempo médio de 100 execuções para o relatório final\n",
    "n = len(cij)\n",
    "\n",
    "tempo_preparacao_MTZ = []\n",
    "n_exec = 0\n",
    "\n",
    "while n_exec < 100:\n",
    "    start_time = time.time()\n",
    "\n",
    "   # Declaração do modelo:\n",
    "    modelo_MTZ = declarar_modelo_designacao(cij)\n",
    "\n",
    "    # Índice para a variável auxiliar u:\n",
    "    modelo_MTZ.U = pyo.RangeSet(2,n)\n",
    "\n",
    "    # Váriavel auxiliar u:\n",
    "    modelo_MTZ.u = pyo.Var(modelo_MTZ.N, within=pyo.NonNegativeIntegers,bounds=(0,n-1))\n",
    "\n",
    "    # Restrições de sub-rota MTZ:\n",
    "    def f_MTZ(modelo, i, j):\n",
    "        if i!=j: \n",
    "            return modelo.u[i] - modelo.u[j] + modelo.x[i,j] * n <= n-1\n",
    "        else:\n",
    "            return modelo.u[i] - modelo.u[i] == 0 # sem efeito no modelo\n",
    "\n",
    "    modelo_MTZ.restr_MTZ = pyo.Constraint(modelo_MTZ.U, modelo_MTZ.N, rule=f_MTZ)\n",
    "    \n",
    "    n_exec +=1\n",
    "    tempo_preparacao_MTZ.append(time.time() - start_time)\n",
    "\n",
    "# Estatísticas da preparação do modelo:\n",
    "obter_estatisticas(tempo_preparacao_MTZ)"
   ]
  },
  {
   "cell_type": "code",
   "execution_count": 19,
   "metadata": {},
   "outputs": [
    {
     "name": "stdout",
     "output_type": "stream",
     "text": [
      "\n",
      "Problem: \n",
      "- Name: unknown\n",
      "  Lower bound: 202.8\n",
      "  Upper bound: 202.8\n",
      "  Number of objectives: 1\n",
      "  Number of constraints: 21\n",
      "  Number of variables: 17\n",
      "  Number of nonzeros: 52\n",
      "  Sense: minimize\n",
      "Solver: \n",
      "- Status: ok\n",
      "  Termination condition: optimal\n",
      "  Statistics: \n",
      "    Branch and bound: \n",
      "      Number of bounded subproblems: 5\n",
      "      Number of created subproblems: 5\n",
      "  Error rc: 0\n",
      "  Time: 0.04188704490661621\n",
      "Solution: \n",
      "- number of solutions: 0\n",
      "  number of solutions displayed: 0\n",
      "\n"
     ]
    }
   ],
   "source": [
    "# Resolução através do solver GLPK\n",
    "# Calcula o tempo médio de 100 execuções para o relatório final\n",
    "\n",
    "tempo_MTZ, resultado_MTZ = resolver_modelo(modelo_MTZ, n_exec=100)\n",
    "print(resultado_MTZ)"
   ]
  },
  {
   "cell_type": "code",
   "execution_count": 20,
   "metadata": {},
   "outputs": [
    {
     "name": "stdout",
     "output_type": "stream",
     "text": [
      "[(1, 2), (2, 4), (4, 3), (3, 1)]\n"
     ]
    }
   ],
   "source": [
    "trajeto_MTZ = obter_trajeto(modelo_MTZ, cij)"
   ]
  },
  {
   "cell_type": "code",
   "execution_count": 21,
   "metadata": {},
   "outputs": [
    {
     "name": "stdout",
     "output_type": "stream",
     "text": [
      " Tempo médio: 0.0425 \n",
      " Desvio padrão: 0.002\n"
     ]
    }
   ],
   "source": [
    "obter_estatisticas(tempo_MTZ)"
   ]
  },
  {
   "cell_type": "markdown",
   "metadata": {},
   "source": [
    "###  3 - Modelo através da variante do branch and bound"
   ]
  },
  {
   "cell_type": "markdown",
   "metadata": {},
   "source": [
    "<b>Parâmetros:</b>\n",
    "\n",
    "$c_{ij} = \\text{custo do deslocamento da origem } i \\; (i = 1,...,m) \\text{ para o destino } j \\; (j = 1,...,n)$\n",
    "\n",
    "<br>\n",
    "\n",
    "<b>Variáveis de decisão:</b>\n",
    "\n",
    "$\n",
    "    x_{ij}=\n",
    "    \\begin{cases}\n",
    "      1, & \\text{se o arco } (i,j) \\text{ faz parte do itinerário.} \\\\\n",
    "      0, & \\text{caso contrário}\n",
    "    \\end{cases}\n",
    "$\n",
    "\n",
    "<br>\n",
    "\n",
    "<b>Formulação:</b>\n",
    "\n",
    "$\\text{min }z = \\sum\\limits_{i=1}^{n} \\sum\\limits_{j=1}^{n} c_{ij} x_{ij}$\n",
    "\n",
    "Sujeito a:\n",
    "\n",
    "$\\sum\\limits_{i=1}^{n} x_{ij} = 1 \\;\\;\\; \\forall \\; j=1,...,n$\n",
    "\n",
    "$\\sum\\limits_{j=1}^{n} x_{ij} = 1 \\;\\;\\; \\forall \\; i=1,...,m$\n",
    "\n",
    "$x_{ij} \\in \\{0,1\\}$"
   ]
  },
  {
   "cell_type": "markdown",
   "metadata": {},
   "source": [
    "#### 3.1 - Resolução do modelo de designação"
   ]
  },
  {
   "cell_type": "code",
   "execution_count": 22,
   "metadata": {},
   "outputs": [
    {
     "name": "stdout",
     "output_type": "stream",
     "text": [
      " Tempo médio: 0.0009 \n",
      " Desvio padrão: 0.0004\n"
     ]
    }
   ],
   "source": [
    "# Preparação do modelo para resolução via solver GLPK\n",
    "# Calcula o tempo médio de 100 execuções para o relatório final\n",
    "\n",
    "tempo_preparacao_B = []\n",
    "n_exec = 0\n",
    "\n",
    "while n_exec < 100:\n",
    "    start_time = time.time()\n",
    "\n",
    "    # Declaração do modelo de designação:\n",
    "    modelo_B = declarar_modelo_designacao(cij)\n",
    "\n",
    "    n_exec +=1\n",
    "    tempo_preparacao_B.append(time.time() - start_time)\n",
    "\n",
    "# Estatísticas da preparação do modelo:\n",
    "obter_estatisticas(tempo_preparacao_B)"
   ]
  },
  {
   "cell_type": "code",
   "execution_count": 23,
   "metadata": {},
   "outputs": [
    {
     "name": "stdout",
     "output_type": "stream",
     "text": [
      "\n",
      "Problem: \n",
      "- Name: unknown\n",
      "  Lower bound: 167.2\n",
      "  Upper bound: 167.2\n",
      "  Number of objectives: 1\n",
      "  Number of constraints: 9\n",
      "  Number of variables: 13\n",
      "  Number of nonzeros: 25\n",
      "  Sense: minimize\n",
      "Solver: \n",
      "- Status: ok\n",
      "  Termination condition: optimal\n",
      "  Statistics: \n",
      "    Branch and bound: \n",
      "      Number of bounded subproblems: 1\n",
      "      Number of created subproblems: 1\n",
      "  Error rc: 0\n",
      "  Time: 0.04089093208312988\n",
      "Solution: \n",
      "- number of solutions: 0\n",
      "  number of solutions displayed: 0\n",
      "\n"
     ]
    }
   ],
   "source": [
    "# Resolução através do solver GLPK\n",
    "# Calcula o tempo médio de 100 execuções para o relatório final\n",
    "\n",
    "tempo_resolucao_B, resultado_B = resolver_modelo(modelo_B, n_exec=100)\n",
    "print(resultado_B)"
   ]
  },
  {
   "cell_type": "code",
   "execution_count": 24,
   "metadata": {},
   "outputs": [
    {
     "name": "stdout",
     "output_type": "stream",
     "text": [
      "[(1, 3), (3, 1), (2, 4), (4, 2)]\n",
      "\n",
      "Há 2 subrotas!\n",
      "[[(1, 3), (3, 1)], [(2, 4), (4, 2)]]\n",
      "\n",
      "{0: {'subrota': [(1, 3), (3, 1)], 'custo': 93.2}, 1: {'subrota': [(2, 4), (4, 2)], 'custo': 74}}\n"
     ]
    }
   ],
   "source": [
    "trajeto_B = obter_trajeto(modelo_B, cij)\n",
    "print(\"\")\n",
    "subrotas_B = obter_subrotas(trajeto_B)\n",
    "print(\"\")\n",
    "custo_subrotas_B = obter_custo_subrotas(subrotas_B)"
   ]
  },
  {
   "cell_type": "markdown",
   "metadata": {},
   "source": [
    "Necessário resolver os seguintes problemas:\n",
    "\n",
    "- <b>Problema 00:</b>\n",
    "\n",
    "    -$c_{13}=9999$\n",
    "        \n",
    "<br>\n",
    "    \n",
    "- <b>Problema 01:</b>\n",
    "\n",
    "    -$c_{31}=9999$\n",
    "    \n",
    "<br>\n",
    "    \n",
    "- <b>Problema 02:</b>\n",
    "\n",
    "    -$c_{24}=9999$\n",
    "    \n",
    "    \n",
    "<br>\n",
    "    \n",
    "- <b>Problema 03:</b>\n",
    "\n",
    "    -$c_{42}=9999$"
   ]
  },
  {
   "cell_type": "markdown",
   "metadata": {},
   "source": [
    "#### 3.2 - Método branch and bound"
   ]
  },
  {
   "cell_type": "markdown",
   "metadata": {},
   "source": [
    "##### 3.2.1 - Problema 00"
   ]
  },
  {
   "cell_type": "code",
   "execution_count": 25,
   "metadata": {},
   "outputs": [
    {
     "name": "stdout",
     "output_type": "stream",
     "text": [
      " Tempo médio: 0.001 \n",
      " Desvio padrão: 0.0004\n"
     ]
    }
   ],
   "source": [
    "# Preparação do modelo para resolução via solver GLPK\n",
    "# Calcula o tempo médio de 100 execuções para o relatório final\n",
    "\n",
    "tempo_preparacao_B_00 = []\n",
    "n_exec = 0\n",
    "\n",
    "while n_exec < 100:\n",
    "    start_time = time.time()\n",
    "\n",
    "    # Atualização da matriz de custos:\n",
    "    cij_00 = copy.deepcopy(cij)\n",
    "    cij_00[0][2] = 999999 # [1,3]\n",
    "\n",
    "    # Declaração do modelo:\n",
    "    modelo_B_00 = declarar_modelo_designacao(cij_00)\n",
    "\n",
    "    n_exec +=1\n",
    "    tempo_preparacao_B_00.append(time.time() - start_time)\n",
    "\n",
    "# Estatísticas da preparação do modelo:\n",
    "obter_estatisticas(tempo_preparacao_B_00)"
   ]
  },
  {
   "cell_type": "code",
   "execution_count": 26,
   "metadata": {},
   "outputs": [
    {
     "data": {
      "text/plain": [
       "[[0, 49, 999999, 80.8],\n",
       " [49, 0, 59.8, 37],\n",
       " [46.6, 59.8, 0, 70.2],\n",
       " [80.8, 37, 70.2, 0]]"
      ]
     },
     "execution_count": 26,
     "metadata": {},
     "output_type": "execute_result"
    }
   ],
   "source": [
    "# Matriz de custos utilizada:\n",
    "cij_00"
   ]
  },
  {
   "cell_type": "code",
   "execution_count": 27,
   "metadata": {},
   "outputs": [
    {
     "name": "stdout",
     "output_type": "stream",
     "text": [
      "\n",
      "Problem: \n",
      "- Name: unknown\n",
      "  Lower bound: 202.8\n",
      "  Upper bound: 202.8\n",
      "  Number of objectives: 1\n",
      "  Number of constraints: 9\n",
      "  Number of variables: 13\n",
      "  Number of nonzeros: 25\n",
      "  Sense: minimize\n",
      "Solver: \n",
      "- Status: ok\n",
      "  Termination condition: optimal\n",
      "  Statistics: \n",
      "    Branch and bound: \n",
      "      Number of bounded subproblems: 1\n",
      "      Number of created subproblems: 1\n",
      "  Error rc: 0\n",
      "  Time: 0.04089021682739258\n",
      "Solution: \n",
      "- number of solutions: 0\n",
      "  number of solutions displayed: 0\n",
      "\n"
     ]
    }
   ],
   "source": [
    "# Resolução através do solver GLPK\n",
    "# Calcula o tempo médio de 100 execuções para o relatório final\n",
    "\n",
    "tempo_resolucao_B_00, resultado_B_00 = resolver_modelo(modelo_B_00, n_exec=100)\n",
    "print(resultado_B_00)"
   ]
  },
  {
   "cell_type": "code",
   "execution_count": 28,
   "metadata": {},
   "outputs": [
    {
     "name": "stdout",
     "output_type": "stream",
     "text": [
      "[(1, 2), (2, 4), (4, 3), (3, 1)]\n",
      "\n",
      "Não há subrotas!\n",
      "[[(1, 2), (2, 4), (4, 3), (3, 1)]]\n",
      "\n",
      "{0: {'subrota': [(1, 2), (2, 4), (4, 3), (3, 1)], 'custo': 202.8}}\n"
     ]
    }
   ],
   "source": [
    "trajeto_B_00 = obter_trajeto(modelo_B_00, cij)\n",
    "print(\"\")\n",
    "subrotas_B_00 = obter_subrotas(trajeto_B_00)\n",
    "print(\"\")\n",
    "custo_subrotas_B_00 = obter_custo_subrotas(subrotas_B_00)"
   ]
  },
  {
   "cell_type": "markdown",
   "metadata": {},
   "source": [
    "##### 3.2.2 - Problema 01"
   ]
  },
  {
   "cell_type": "code",
   "execution_count": 29,
   "metadata": {},
   "outputs": [
    {
     "name": "stdout",
     "output_type": "stream",
     "text": [
      " Tempo médio: 0.001 \n",
      " Desvio padrão: 0.0007\n"
     ]
    }
   ],
   "source": [
    "tempo_preparacao_B_01 = []\n",
    "n_exec = 0\n",
    "\n",
    "while n_exec < 100:\n",
    "    start_time = time.time()\n",
    "\n",
    "    # Atualização da matriz de custos:\n",
    "    cij_01 = copy.deepcopy(cij)\n",
    "    cij_01[2][0] = 999999 # [3,1]\n",
    "\n",
    "    # Declaração do modelo:\n",
    "    modelo_B_01 = declarar_modelo_designacao(cij_01)\n",
    "\n",
    "    n_exec +=1\n",
    "    tempo_preparacao_B_01.append(time.time() - start_time)\n",
    "\n",
    "# Estatísticas da preparação do modelo:\n",
    "obter_estatisticas(tempo_preparacao_B_01)"
   ]
  },
  {
   "cell_type": "code",
   "execution_count": 30,
   "metadata": {},
   "outputs": [
    {
     "data": {
      "text/plain": [
       "[[0, 49, 46.6, 80.8],\n",
       " [49, 0, 59.8, 37],\n",
       " [999999, 59.8, 0, 70.2],\n",
       " [80.8, 37, 70.2, 0]]"
      ]
     },
     "execution_count": 30,
     "metadata": {},
     "output_type": "execute_result"
    }
   ],
   "source": [
    "# Matriz de custos utilizada:\n",
    "cij_01"
   ]
  },
  {
   "cell_type": "code",
   "execution_count": 31,
   "metadata": {},
   "outputs": [
    {
     "name": "stdout",
     "output_type": "stream",
     "text": [
      "\n",
      "Problem: \n",
      "- Name: unknown\n",
      "  Lower bound: 202.8\n",
      "  Upper bound: 202.8\n",
      "  Number of objectives: 1\n",
      "  Number of constraints: 9\n",
      "  Number of variables: 13\n",
      "  Number of nonzeros: 25\n",
      "  Sense: minimize\n",
      "Solver: \n",
      "- Status: ok\n",
      "  Termination condition: optimal\n",
      "  Statistics: \n",
      "    Branch and bound: \n",
      "      Number of bounded subproblems: 1\n",
      "      Number of created subproblems: 1\n",
      "  Error rc: 0\n",
      "  Time: 0.04288506507873535\n",
      "Solution: \n",
      "- number of solutions: 0\n",
      "  number of solutions displayed: 0\n",
      "\n"
     ]
    }
   ],
   "source": [
    "# Resolução através do solver GLPK\n",
    "# Calcula o tempo médio de 100 execuções para o relatório final\n",
    "\n",
    "tempo_resolucao_B_01, resultado_B_01 = resolver_modelo(modelo_B_01, n_exec=100)\n",
    "print(resultado_B_01)"
   ]
  },
  {
   "cell_type": "code",
   "execution_count": 36,
   "metadata": {},
   "outputs": [
    {
     "name": "stdout",
     "output_type": "stream",
     "text": [
      "[(1, 3), (3, 4), (4, 2), (2, 1)]\n",
      "\n",
      "Não há subrotas!\n",
      "[[(1, 3), (3, 4), (4, 2), (2, 1)]]\n",
      "\n",
      "{0: {'subrota': [(1, 3), (3, 4), (4, 2), (2, 1)], 'custo': 202.8}}\n"
     ]
    }
   ],
   "source": [
    "trajeto_B_01 = obter_trajeto(modelo_B_01, cij)\n",
    "print(\"\")\n",
    "subrotas_B_01 = obter_subrotas(trajeto_B_01)\n",
    "print(\"\")\n",
    "custo_subrotas_B_01 = obter_custo_subrotas(subrotas_B_01)"
   ]
  },
  {
   "cell_type": "markdown",
   "metadata": {},
   "source": [
    "##### 3.2.3 - Problema 02"
   ]
  },
  {
   "cell_type": "code",
   "execution_count": 33,
   "metadata": {},
   "outputs": [
    {
     "name": "stdout",
     "output_type": "stream",
     "text": [
      " Tempo médio: 0.0009 \n",
      " Desvio padrão: 0.0004\n"
     ]
    }
   ],
   "source": [
    "tempo_preparacao_B_02 = []\n",
    "n_exec = 0\n",
    "\n",
    "while n_exec < 100:\n",
    "    start_time = time.time()\n",
    "\n",
    "    # Atualização da matriz de custos:\n",
    "    cij_02 = copy.deepcopy(cij)\n",
    "    cij_02[1][3] = 999999 # [2,4]\n",
    "\n",
    "    # Declaração do modelo:\n",
    "    modelo_B_02 = declarar_modelo_designacao(cij_02)\n",
    "\n",
    "    n_exec +=1\n",
    "    tempo_preparacao_B_02.append(time.time() - start_time)\n",
    "\n",
    "# Estatísticas da preparação do modelo:\n",
    "obter_estatisticas(tempo_preparacao_B_02)"
   ]
  },
  {
   "cell_type": "code",
   "execution_count": 34,
   "metadata": {},
   "outputs": [
    {
     "data": {
      "text/plain": [
       "[[0, 49, 46.6, 80.8],\n",
       " [49, 0, 59.8, 999999],\n",
       " [46.6, 59.8, 0, 70.2],\n",
       " [80.8, 37, 70.2, 0]]"
      ]
     },
     "execution_count": 34,
     "metadata": {},
     "output_type": "execute_result"
    }
   ],
   "source": [
    "# Matriz de custos utilizada:\n",
    "cij_02"
   ]
  },
  {
   "cell_type": "code",
   "execution_count": 35,
   "metadata": {},
   "outputs": [
    {
     "name": "stdout",
     "output_type": "stream",
     "text": [
      "\n",
      "Problem: \n",
      "- Name: unknown\n",
      "  Lower bound: 202.8\n",
      "  Upper bound: 202.8\n",
      "  Number of objectives: 1\n",
      "  Number of constraints: 9\n",
      "  Number of variables: 13\n",
      "  Number of nonzeros: 25\n",
      "  Sense: minimize\n",
      "Solver: \n",
      "- Status: ok\n",
      "  Termination condition: optimal\n",
      "  Statistics: \n",
      "    Branch and bound: \n",
      "      Number of bounded subproblems: 1\n",
      "      Number of created subproblems: 1\n",
      "  Error rc: 0\n",
      "  Time: 0.04188871383666992\n",
      "Solution: \n",
      "- number of solutions: 0\n",
      "  number of solutions displayed: 0\n",
      "\n"
     ]
    }
   ],
   "source": [
    "# Resolução através do solver GLPK\n",
    "# Calcula o tempo médio de 100 execuções para o relatório final\n",
    "\n",
    "tempo_resolucao_B_02, resultado_B_02 = resolver_modelo(modelo_B_02, n_exec=100)\n",
    "print(resultado_B_02)"
   ]
  },
  {
   "cell_type": "code",
   "execution_count": 37,
   "metadata": {},
   "outputs": [
    {
     "name": "stdout",
     "output_type": "stream",
     "text": [
      "[(1, 3), (3, 4), (4, 2), (2, 1)]\n",
      "\n",
      "Não há subrotas!\n",
      "[[(1, 3), (3, 4), (4, 2), (2, 1)]]\n",
      "\n",
      "{0: {'subrota': [(1, 3), (3, 4), (4, 2), (2, 1)], 'custo': 202.8}}\n"
     ]
    }
   ],
   "source": [
    "trajeto_B_02 = obter_trajeto(modelo_B_02, cij)\n",
    "print(\"\")\n",
    "subrotas_B_02 = obter_subrotas(trajeto_B_02)\n",
    "print(\"\")\n",
    "custo_subrotas_B_02 = obter_custo_subrotas(subrotas_B_02)"
   ]
  },
  {
   "cell_type": "markdown",
   "metadata": {},
   "source": [
    "##### 3.2.4 - Problema 03"
   ]
  },
  {
   "cell_type": "code",
   "execution_count": 39,
   "metadata": {},
   "outputs": [
    {
     "name": "stdout",
     "output_type": "stream",
     "text": [
      " Tempo médio: 0.001 \n",
      " Desvio padrão: 0.0005\n"
     ]
    }
   ],
   "source": [
    "tempo_preparacao_B_03 = []\n",
    "n_exec = 0\n",
    "\n",
    "while n_exec < 100:\n",
    "    start_time = time.time()\n",
    "\n",
    "    # Atualização da matriz de custos:\n",
    "    cij_03 = copy.deepcopy(cij)\n",
    "    cij_03[3][1] = 999999 # [4,2]\n",
    "\n",
    "    # Declaração do modelo:\n",
    "    modelo_B_03 = declarar_modelo_designacao(cij_03)\n",
    "\n",
    "    n_exec +=1\n",
    "    tempo_preparacao_B_03.append(time.time() - start_time)\n",
    "\n",
    "# Estatísticas da preparação do modelo:\n",
    "obter_estatisticas(tempo_preparacao_B_03)"
   ]
  },
  {
   "cell_type": "code",
   "execution_count": 40,
   "metadata": {},
   "outputs": [
    {
     "data": {
      "text/plain": [
       "[[0, 49, 46.6, 80.8],\n",
       " [49, 0, 59.8, 37],\n",
       " [46.6, 59.8, 0, 70.2],\n",
       " [80.8, 999999, 70.2, 0]]"
      ]
     },
     "execution_count": 40,
     "metadata": {},
     "output_type": "execute_result"
    }
   ],
   "source": [
    "# Matriz de custos utilizada:\n",
    "cij_03"
   ]
  },
  {
   "cell_type": "code",
   "execution_count": 41,
   "metadata": {},
   "outputs": [
    {
     "name": "stdout",
     "output_type": "stream",
     "text": [
      "\n",
      "Problem: \n",
      "- Name: unknown\n",
      "  Lower bound: 202.8\n",
      "  Upper bound: 202.8\n",
      "  Number of objectives: 1\n",
      "  Number of constraints: 9\n",
      "  Number of variables: 13\n",
      "  Number of nonzeros: 25\n",
      "  Sense: minimize\n",
      "Solver: \n",
      "- Status: ok\n",
      "  Termination condition: optimal\n",
      "  Statistics: \n",
      "    Branch and bound: \n",
      "      Number of bounded subproblems: 1\n",
      "      Number of created subproblems: 1\n",
      "  Error rc: 0\n",
      "  Time: 0.04088950157165527\n",
      "Solution: \n",
      "- number of solutions: 0\n",
      "  number of solutions displayed: 0\n",
      "\n"
     ]
    }
   ],
   "source": [
    "# Resolução através do solver GLPK\n",
    "# Calcula o tempo médio de 100 execuções para o relatório final\n",
    "\n",
    "tempo_resolucao_B_03, resultado_B_03 = resolver_modelo(modelo_B_03, n_exec=100)\n",
    "print(resultado_B_03)"
   ]
  },
  {
   "cell_type": "code",
   "execution_count": null,
   "metadata": {},
   "outputs": [],
   "source": []
  },
  {
   "cell_type": "code",
   "execution_count": null,
   "metadata": {},
   "outputs": [],
   "source": []
  },
  {
   "cell_type": "code",
   "execution_count": null,
   "metadata": {},
   "outputs": [],
   "source": []
  },
  {
   "cell_type": "markdown",
   "metadata": {},
   "source": [
    "###  3 - Heurística de inserção do mais próximo"
   ]
  },
  {
   "cell_type": "code",
   "execution_count": null,
   "metadata": {},
   "outputs": [],
   "source": [
    "# Executa 10 vezes para obter o tempo médio:\n",
    "\n",
    "t_himp = []\n",
    "n_exec = 0\n",
    "while n_exec < 10:\n",
    "    start_time = time.time()\n",
    "    trajeto_himp, custo_himp = resolver_heuristica_insercao(cij)\n",
    "    n_exec +=1\n",
    "    t_himp.append(time.time() - start_time)\n",
    "\n",
    "obter_estatisticas(t_himp)"
   ]
  },
  {
   "cell_type": "code",
   "execution_count": null,
   "metadata": {},
   "outputs": [],
   "source": [
    "print(\"Trajeto final:\", trajeto_himp)\n",
    "print(\"Custo final:\", custo_himp)"
   ]
  },
  {
   "cell_type": "markdown",
   "metadata": {},
   "source": [
    "###  4 - Heurística de inserção do mais distante"
   ]
  },
  {
   "cell_type": "code",
   "execution_count": null,
   "metadata": {
    "scrolled": true
   },
   "outputs": [],
   "source": [
    "# Executa 10 vezes para obter o tempo médio:\n",
    "\n",
    "t_himd = []\n",
    "n_exec = 0\n",
    "while n_exec < 10:\n",
    "    start_time = time.time()\n",
    "    trajeto_himd, custo_himd = resolver_heuristica_insercao(cij, mais_distante=True)\n",
    "    n_exec +=1\n",
    "    t_himd.append(time.time() - start_time)\n",
    "\n",
    "obter_estatisticas(t_himd)"
   ]
  },
  {
   "cell_type": "code",
   "execution_count": null,
   "metadata": {},
   "outputs": [],
   "source": [
    "print(\"Trajeto final:\", trajeto_himd)\n",
    "print(\"Custo final:\", custo_himd)"
   ]
  },
  {
   "cell_type": "markdown",
   "metadata": {},
   "source": [
    "###  5 - Heurística de inserção mais econômica"
   ]
  },
  {
   "cell_type": "code",
   "execution_count": null,
   "metadata": {},
   "outputs": [],
   "source": [
    "# Executa 10 vezes para obter o tempo médio:\n",
    "\n",
    "t_hime = []\n",
    "n_exec = 0\n",
    "while n_exec < 10:\n",
    "    start_time = time.time()\n",
    "    trajeto_hime, custo_hime = resolver_heuristica_insercao_economica(cij)\n",
    "    n_exec +=1\n",
    "    t_hime.append(time.time() - start_time)\n",
    "\n",
    "obter_estatisticas(t_hime)"
   ]
  },
  {
   "cell_type": "code",
   "execution_count": null,
   "metadata": {},
   "outputs": [],
   "source": [
    "print(\"Trajeto final:\", trajeto_hime)\n",
    "print(\"Custo final:\", custo_hime)"
   ]
  }
 ],
 "metadata": {
  "kernelspec": {
   "display_name": "Python 3",
   "language": "python",
   "name": "python3"
  },
  "language_info": {
   "codemirror_mode": {
    "name": "ipython",
    "version": 3
   },
   "file_extension": ".py",
   "mimetype": "text/x-python",
   "name": "python",
   "nbconvert_exporter": "python",
   "pygments_lexer": "ipython3",
   "version": "3.7.9"
  }
 },
 "nbformat": 4,
 "nbformat_minor": 4
}
