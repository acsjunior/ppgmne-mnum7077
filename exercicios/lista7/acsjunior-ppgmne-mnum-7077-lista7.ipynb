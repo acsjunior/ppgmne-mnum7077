{
 "cells": [
  {
   "cell_type": "markdown",
   "metadata": {},
   "source": [
    "# Lista de exercícios 7 - MNUM-7077\n",
    "\n",
    "#### Antonio C. da Silva Júnior"
   ]
  },
  {
   "cell_type": "markdown",
   "metadata": {},
   "source": [
    "## 1 - Exercício A (10 pontos)"
   ]
  },
  {
   "cell_type": "markdown",
   "metadata": {},
   "source": [
    "Matriz de custos:"
   ]
  },
  {
   "cell_type": "code",
   "execution_count": 1,
   "metadata": {},
   "outputs": [],
   "source": [
    "cij = [[0, 49, 46,6, 80,8, 67,2, 35,4, 68,7, 53,6, 57,8, 73,9],\n",
    "       [49, 0, 59,8, 37, 37,1, 23,4, 70,2, 48,1, 27, 41,8],\n",
    "       [46,6, 59,8, 0, 70,2, 47,3, 64,8, 23, 20,1, 83,2, 52,6],\n",
    "       [80,8, 37, 70,2, 0, 23,9, 60,4, 68,2, 51, 57,3, 21,3],\n",
    "       [67,2, 37,1, 47,3, 23,9, 0, 57,7, 44,6, 27,5, 63,5, 6,7],\n",
    "       [35,4, 23,4, 64,8, 60,4, 57,7, 0, 81,2, 60, 22,5, 63,3],\n",
    "       [68,7, 70,2, 23, 68,2, 44,6, 81,2, 0, 22,1, 96,3, 47,4],\n",
    "       [53,6, 48,1, 20,1, 51, 27,5, 60, 22,1, 0, 74,2, 32,6],\n",
    "       [57,8, 27, 83,2, 57,3, 63,5, 22,5, 96,3, 74,2, 0, 67,5],\n",
    "       [73,9, 41,8, 52,6, 21,3, 6,7, 63,3, 47,4, 32,6, 67,5, 0]]"
   ]
  },
  {
   "cell_type": "markdown",
   "metadata": {},
   "source": [
    "###  1.1 - Modelo com restrições de sub-rota de Dantzig"
   ]
  },
  {
   "cell_type": "markdown",
   "metadata": {},
   "source": [
    "<b>Parâmetros:</b>\n",
    "\n",
    "$c_{ij} = \\text{custo do deslocamento da origem } i \\; (i = 1,...,m) \\text{ para o destino } j \\; (j = 1,...,n)$\n",
    "\n",
    "<br>\n",
    "\n",
    "<b>Variáveis de decisão:</b>\n",
    "\n",
    "$\n",
    "    x_{ij}=\n",
    "    \\begin{cases}\n",
    "      1, & \\text{se o arco } (i,j) \\text{ faz parte do itinerário.} \\\\\n",
    "      0, & \\text{caso contrário}\n",
    "    \\end{cases}\n",
    "$\n",
    "\n",
    "<br>\n",
    "\n",
    "<b>Formulação:</b>\n",
    "\n",
    "$\\text{min z} = \\sum\\limits_{i=1}^{n} \\sum\\limits_{j=1}^{n} c_{ij} x_{ij}$\n",
    "\n",
    "Sujeito a:\n",
    "\n",
    "$\\sum\\limits_{i=1}^{n} x_{ij} = 1 \\;\\;\\; \\forall \\; j=1,...,n$\n",
    "\n",
    "$\\sum\\limits_{j=1}^{n} x_{ij} = 1 \\;\\;\\; \\forall \\; i=1,...,m$\n",
    "\n",
    "$\\sum\\limits_{i \\in Q} \\sum\\limits_{j \\notin Q} x_{ij} \\geq 1 \\;\\;\\; \\forall \\; Q \\subseteq \\{1,...,n\\}, 1 \\leq |Q| \\leq n-1$\n",
    "\n",
    "$x_{ij} \\in \\{0,1\\}$\n"
   ]
  },
  {
   "cell_type": "markdown",
   "metadata": {},
   "source": [
    "#### 1.1.1 - Resolução"
   ]
  },
  {
   "cell_type": "code",
   "execution_count": 2,
   "metadata": {},
   "outputs": [
    {
     "name": "stdout",
     "output_type": "stream",
     "text": [
      "10\n"
     ]
    }
   ],
   "source": [
    "# Número de pontos:\n",
    "n = len(cij)\n",
    "print(n)"
   ]
  },
  {
   "cell_type": "code",
   "execution_count": 3,
   "metadata": {},
   "outputs": [],
   "source": [
    "# Lógica para inclusão dinâmica das restrições de sub-rota de Dantzig:\n",
    "\n",
    "# Combinações:\n",
    "import itertools\n",
    "import numpy as np\n",
    "\n",
    "c = []\n",
    "for i in range(n):\n",
    "    c.append([0,1])\n",
    "    \n",
    "comb = np.array(list(itertools.product(*c)))\n",
    "comb = np.flip(comb, axis=1)\n",
    "comb = comb[1:(len(comb)-1),:] # remove todos os vazis e todos os cheios"
   ]
  },
  {
   "cell_type": "code",
   "execution_count": 4,
   "metadata": {},
   "outputs": [],
   "source": [
    "# Definição dos conjuntos Q e não Q:\n",
    "Q = []\n",
    "nQ = []\n",
    "for i in range(len(comb)):\n",
    "    q = []\n",
    "    n_q = []\n",
    "    for j in range(len(comb[i])):\n",
    "        if comb[i,j] == 1:\n",
    "            q.append(j+1)\n",
    "        else:\n",
    "            n_q.append(j+1)\n",
    "    Q.append(q)\n",
    "    nQ.append(n_q)"
   ]
  },
  {
   "cell_type": "code",
   "execution_count": 5,
   "metadata": {},
   "outputs": [],
   "source": [
    "import pyomo.environ as pyo\n",
    "\n",
    "# Declaração do modelo:\n",
    "modelo_D = pyo.ConcreteModel()\n",
    "\n",
    "# Índices dos pontos:\n",
    "modelo_D.M = pyo.RangeSet(n)\n",
    "modelo_D.N = pyo.RangeSet(n)\n",
    "\n",
    "# Matriz de custos:\n",
    "modelo_D.c = pyo.Param(modelo_D.N, modelo_D.M, initialize=lambda modelo_D, i, j: cij[i-1][j-1])\n",
    "\n",
    "# Variáveis de decisão:\n",
    "modelo_D.x = pyo.Var(modelo_D.N,modelo_D.M, within=pyo.Binary)\n",
    "\n",
    "# Função objetivo:\n",
    "def f_objetivo(modelo):\n",
    "    return sum(modelo.x[i,j] * modelo.c[i,j] for i in modelo.N for j in modelo.M)\n",
    "\n",
    "modelo_D.objetivo = pyo.Objective(rule=f_objetivo, sense=pyo.minimize)\n",
    "\n",
    "# Restrições\n",
    "\n",
    "# Cada ponto só recebe de uma única origem:\n",
    "def f_restr1(modelo, M):\n",
    "    return sum(modelo.x[i,M] for i in modelo.N) == 1\n",
    "\n",
    "modelo_D.restr1 = pyo.Constraint(modelo_D.M, rule=f_restr1)\n",
    "\n",
    "# Cada ponto só envia para um destino:\n",
    "def f_restr2(modelo, N):\n",
    "    return sum(modelo.x[N,j] for j in modelo.M) == 1\n",
    "\n",
    "modelo_D.restr2 = pyo.Constraint(modelo_D.N, rule=f_restr2)\n",
    "\n",
    "# Restrições de sub-rota de Dantzig:\n",
    "modelo_D.restr3 = pyo.ConstraintList()\n",
    "\n",
    "for q, nq in zip(Q, nQ):\n",
    "    modelo_D.restr3.add(sum(modelo_D.x[i,j] for i in q for j in nq) >= 1)"
   ]
  },
  {
   "cell_type": "code",
   "execution_count": 6,
   "metadata": {},
   "outputs": [],
   "source": [
    "# Resolução:\n",
    "\n",
    "# 50 execuções para obter o tempo médio:\n",
    "t_D = []\n",
    "for i in range(50):\n",
    "    solver = pyo.SolverFactory('glpk')\n",
    "    result_D = solver.solve(modelo_D)\n",
    "    t_D.append(result_D.Solver.Time)"
   ]
  },
  {
   "cell_type": "code",
   "execution_count": 7,
   "metadata": {},
   "outputs": [
    {
     "name": "stdout",
     "output_type": "stream",
     "text": [
      "\n",
      "Problem: \n",
      "- Name: unknown\n",
      "  Lower bound: 79.0\n",
      "  Upper bound: 79.0\n",
      "  Number of objectives: 1\n",
      "  Number of constraints: 1043\n",
      "  Number of variables: 101\n",
      "  Number of nonzeros: 23241\n",
      "  Sense: minimize\n",
      "Solver: \n",
      "- Status: ok\n",
      "  Termination condition: optimal\n",
      "  Statistics: \n",
      "    Branch and bound: \n",
      "      Number of bounded subproblems: 1\n",
      "      Number of created subproblems: 1\n",
      "  Error rc: 0\n",
      "  Time: 0.08975815773010254\n",
      "Solution: \n",
      "- number of solutions: 0\n",
      "  number of solutions displayed: 0\n",
      "\n"
     ]
    }
   ],
   "source": [
    "print(result_D)"
   ]
  },
  {
   "cell_type": "code",
   "execution_count": 8,
   "metadata": {},
   "outputs": [
    {
     "name": "stdout",
     "output_type": "stream",
     "text": [
      "(1, 10) -- 1.0\n",
      "(2, 7) -- 1.0\n",
      "(3, 5) -- 1.0\n",
      "(4, 6) -- 1.0\n",
      "(5, 2) -- 1.0\n",
      "(6, 1) -- 1.0\n",
      "(7, 4) -- 1.0\n",
      "(8, 9) -- 1.0\n",
      "(9, 3) -- 1.0\n",
      "(10, 8) -- 1.0\n"
     ]
    }
   ],
   "source": [
    "# Trajeto:\n",
    "l = list(modelo_D.x.keys())\n",
    "for i in l:\n",
    "    if modelo_D.x[i]() != 0:\n",
    "        print(i,'--', modelo_D.x[i]())"
   ]
  },
  {
   "cell_type": "code",
   "execution_count": 9,
   "metadata": {},
   "outputs": [
    {
     "name": "stdout",
     "output_type": "stream",
     "text": [
      " Tempo médio: 0.09071625232696533 \n",
      " Desvio padrão: 0.00467743146646828\n"
     ]
    }
   ],
   "source": [
    "from statistics import *\n",
    "\n",
    "print(\" Tempo médio:\", mean(t_D), \"\\n\", \"Desvio padrão:\", stdev(t_D))"
   ]
  },
  {
   "cell_type": "markdown",
   "metadata": {},
   "source": [
    "###  1.2 - Modelo com restrições de sub-rota MTZ"
   ]
  },
  {
   "cell_type": "markdown",
   "metadata": {},
   "source": [
    "<b>Parâmetros:</b>\n",
    "\n",
    "$c_{ij} = \\text{custo do deslocamento da origem } i \\; (i = 1,...,m) \\text{ para o destino } j \\; (j = 1,...,n)$\n",
    "\n",
    "<br>\n",
    "\n",
    "<b>Variáveis de decisão:</b>\n",
    "\n",
    "$\n",
    "    x_{ij}=\n",
    "    \\begin{cases}\n",
    "      1, & \\text{se o arco } (i,j) \\text{ faz parte do itinerário.} \\\\\n",
    "      0, & \\text{caso contrário}\n",
    "    \\end{cases}\n",
    "$\n",
    "\n",
    "<br>\n",
    "\n",
    "<b>Formulação:</b>\n",
    "\n",
    "$\\text{min z} = \\sum\\limits_{i=1}^{n} \\sum\\limits_{j=1}^{n} c_{ij} x_{ij}$\n",
    "\n",
    "Sujeito a:\n",
    "\n",
    "$\\sum\\limits_{i=1}^{n} x_{ij} = 1 \\;\\;\\; \\forall \\; j=1,...,n$\n",
    "\n",
    "$\\sum\\limits_{j=1}^{n} x_{ij} = 1 \\;\\;\\; \\forall \\; i=1,...,m$\n",
    "\n",
    "$x_{ij} \\in \\{0,1\\}$"
   ]
  },
  {
   "cell_type": "markdown",
   "metadata": {},
   "source": [
    "#### 1.2.1 - Resolução"
   ]
  },
  {
   "cell_type": "code",
   "execution_count": 10,
   "metadata": {},
   "outputs": [
    {
     "name": "stdout",
     "output_type": "stream",
     "text": [
      "10\n"
     ]
    }
   ],
   "source": [
    "# Número de pontos:\n",
    "n = len(cij)\n",
    "print(n)"
   ]
  },
  {
   "cell_type": "code",
   "execution_count": 11,
   "metadata": {},
   "outputs": [],
   "source": [
    "import pyomo.environ as pyo\n",
    "\n",
    "# Declaração do modelo:\n",
    "modelo_MTZ = pyo.ConcreteModel()\n",
    "\n",
    "# Índices:\n",
    "modelo_MTZ.M = pyo.RangeSet(n)\n",
    "modelo_MTZ.N = pyo.RangeSet(n)\n",
    "modelo_MTZ.U = pyo.RangeSet(2,n)\n",
    "\n",
    "# Matriz de custos:\n",
    "modelo_MTZ.c = pyo.Param(modelo_MTZ.N, modelo_MTZ.M, initialize=lambda modelo_MTZ, i, j: cij[i-1][j-1])\n",
    "\n",
    "# Variáveis de decisão:\n",
    "modelo_MTZ.x = pyo.Var(modelo_MTZ.N,modelo_MTZ.M, within=pyo.Binary)\n",
    "modelo_MTZ.u = pyo.Var(modelo_MTZ.N, within=pyo.NonNegativeIntegers,bounds=(0,n-1))\n",
    "\n",
    "# Função objetivo:\n",
    "def f_objetivo(modelo):\n",
    "    return sum(modelo.x[i,j] * modelo.c[i,j] for i in modelo.N for j in modelo.M)\n",
    "\n",
    "modelo_MTZ.objetivo = pyo.Objective(rule=f_objetivo, sense=pyo.minimize)\n",
    "\n",
    "# Restrições\n",
    "\n",
    "# Cada ponto só recebe de uma única origem:\n",
    "def f_restr1(modelo, M):\n",
    "    return sum(modelo.x[i,M] for i in modelo.N) == 1\n",
    "\n",
    "modelo_MTZ.restr1 = pyo.Constraint(modelo_MTZ.M, rule=f_restr1)\n",
    "\n",
    "# Cada ponto só envia para um destino:\n",
    "def f_restr2(modelo, N):\n",
    "    return sum(modelo.x[N,j] for j in modelo.M) == 1\n",
    "\n",
    "modelo_MTZ.restr2 = pyo.Constraint(modelo_MTZ.N, rule=f_restr2)\n",
    "\n",
    "# Restrições de sub-rota MTZ:\n",
    "def f_restr3(modelo, i, j):\n",
    "    if i!=j: \n",
    "        return modelo.u[i] - modelo.u[j] + modelo.x[i,j] * n <= n-1\n",
    "    else:\n",
    "        return modelo.u[i] - modelo.u[i] == 0 # sem efeito no modelo\n",
    "    \n",
    "modelo_MTZ.restr3 = pyo.Constraint(modelo_MTZ.U, modelo_MTZ.N, rule=f_restr3)"
   ]
  },
  {
   "cell_type": "code",
   "execution_count": 12,
   "metadata": {},
   "outputs": [],
   "source": [
    "# Resolução:\n",
    "\n",
    "# 50 execuções para obter o tempo médio:\n",
    "t_MTZ = []\n",
    "for i in range(50):\n",
    "    solver = pyo.SolverFactory('glpk')\n",
    "    result_MTZ = solver.solve(modelo_MTZ)\n",
    "    t_MTZ.append(result_MTZ.Solver.Time)"
   ]
  },
  {
   "cell_type": "code",
   "execution_count": 13,
   "metadata": {},
   "outputs": [
    {
     "name": "stdout",
     "output_type": "stream",
     "text": [
      "\n",
      "Problem: \n",
      "- Name: unknown\n",
      "  Lower bound: 77.0\n",
      "  Upper bound: 77.0\n",
      "  Number of objectives: 1\n",
      "  Number of constraints: 111\n",
      "  Number of variables: 111\n",
      "  Number of nonzeros: 444\n",
      "  Sense: minimize\n",
      "Solver: \n",
      "- Status: ok\n",
      "  Termination condition: optimal\n",
      "  Statistics: \n",
      "    Branch and bound: \n",
      "      Number of bounded subproblems: 2831\n",
      "      Number of created subproblems: 2831\n",
      "  Error rc: 0\n",
      "  Time: 0.5152127742767334\n",
      "Solution: \n",
      "- number of solutions: 0\n",
      "  number of solutions displayed: 0\n",
      "\n"
     ]
    }
   ],
   "source": [
    "print(result_MTZ)"
   ]
  },
  {
   "cell_type": "code",
   "execution_count": 14,
   "metadata": {},
   "outputs": [
    {
     "name": "stdout",
     "output_type": "stream",
     "text": [
      "(1, 10) -- 1.0\n",
      "(2, 2) -- 1.0\n",
      "(3, 5) -- 1.0\n",
      "(4, 6) -- 1.0\n",
      "(5, 4) -- 1.0\n",
      "(6, 1) -- 1.0\n",
      "(7, 7) -- 1.0\n",
      "(8, 9) -- 1.0\n",
      "(9, 3) -- 1.0\n",
      "(10, 8) -- 1.0\n"
     ]
    }
   ],
   "source": [
    "# Trajeto:\n",
    "l = list(modelo_MTZ.x.keys())\n",
    "for i in l:\n",
    "    if modelo_MTZ.x[i]() != 0:\n",
    "        print(i,'--', modelo_MTZ.x[i]())"
   ]
  },
  {
   "cell_type": "code",
   "execution_count": 15,
   "metadata": {},
   "outputs": [
    {
     "name": "stdout",
     "output_type": "stream",
     "text": [
      " Tempo médio: 0.5017868280410767 \n",
      " Desvio padrão: 0.00955160443318802\n"
     ]
    }
   ],
   "source": [
    "from statistics import *\n",
    "\n",
    "print(\" Tempo médio:\", mean(t_MTZ), \"\\n\", \"Desvio padrão:\", stdev(t_MTZ))"
   ]
  }
 ],
 "metadata": {
  "kernelspec": {
   "display_name": "Python 3",
   "language": "python",
   "name": "python3"
  },
  "language_info": {
   "codemirror_mode": {
    "name": "ipython",
    "version": 3
   },
   "file_extension": ".py",
   "mimetype": "text/x-python",
   "name": "python",
   "nbconvert_exporter": "python",
   "pygments_lexer": "ipython3",
   "version": "3.7.9"
  }
 },
 "nbformat": 4,
 "nbformat_minor": 4
}
