{
 "cells": [
  {
   "cell_type": "code",
   "execution_count": 37,
   "metadata": {},
   "outputs": [],
   "source": [
    "# Matriz de custos:\n",
    "\n",
    "cost_matrix = [[9999, 36.9, 55, 13.6], \n",
    "               [36.9, 9999, 26.5, 33.8], \n",
    "               [55, 26.5, 9999, 45.8], \n",
    "               [13.6, 33.8, 45.8, 9999]]"
   ]
  },
  {
   "cell_type": "code",
   "execution_count": 38,
   "metadata": {},
   "outputs": [
    {
     "data": {
      "text/plain": [
       "4"
      ]
     },
     "execution_count": 38,
     "metadata": {},
     "output_type": "execute_result"
    }
   ],
   "source": [
    "# Número de pontos:\n",
    "\n",
    "n = len(cost_matrix)\n",
    "n"
   ]
  },
  {
   "cell_type": "code",
   "execution_count": 39,
   "metadata": {},
   "outputs": [],
   "source": [
    "# Formulação do modelo:\n",
    "\n",
    "import pyomo.environ as pyo\n",
    "\n",
    "# Objeto modelo\n",
    "model = pyo.ConcreteModel()\n",
    "\n",
    "# Índices dos pontos (1,...,n)\n",
    "model.M = pyo.RangeSet(n)                \n",
    "model.N = pyo.RangeSet(n)\n",
    "\n",
    "# Índice da variável U (2,...,n)\n",
    "model.U = pyo.RangeSet(2,n)\n",
    "\n",
    "# Variáveis de decisão xij\n",
    "model.x = pyo.Var(model.N,model.M, within=pyo.Binary)\n",
    "\n",
    "# Variávei ui\n",
    "model.u = pyo.Var(model.N, within=pyo.NonNegativeIntegers,bounds=(0,n-1))\n",
    "\n",
    "# Matriz de custos\n",
    "model.c = pyo.Param(model.N, model.M,initialize=lambda model, i, j: cost_matrix[i-1][j-1])\n",
    "\n",
    "# Função objetivo\n",
    "def obj_func(model):\n",
    "    return sum(model.x[i,j] * model.c[i,j] for i in model.N for j in model.M)\n",
    "\n",
    "model.objective = pyo.Objective(rule=obj_func,sense=pyo.minimize)\n",
    "\n",
    "# Restrições 1\n",
    "def rule_const1(model,M):\n",
    "    return sum(model.x[i,M] for i in model.N if i!=M ) == 1\n",
    "\n",
    "model.const1 = pyo.Constraint(model.M,rule=rule_const1)\n",
    "\n",
    "\n",
    "# Restrições 2\n",
    "def rule_const2(model,N):\n",
    "    return sum(model.x[N,j] for j in model.M if j!=N) == 1\n",
    "\n",
    "model.rest2 = pyo.Constraint(model.N,rule=rule_const2)\n",
    "\n",
    "\n",
    "# Restrições MTZ\n",
    "def rule_const3(model,i,j):\n",
    "    if i!=j: \n",
    "        return model.u[i] - model.u[j] + model.x[i,j] * n <= n-1\n",
    "    else:\n",
    "        return model.u[i] - model.u[i] == 0 \n",
    "    \n",
    "model.rest3 = pyo.Constraint(model.U,model.N,rule=rule_const3)\n",
    "\n",
    "# model.pprint()\n",
    "# pprint(filename=’file.txt’)"
   ]
  },
  {
   "cell_type": "code",
   "execution_count": 45,
   "metadata": {},
   "outputs": [
    {
     "name": "stdout",
     "output_type": "stream",
     "text": [
      "\n",
      "Problem: \n",
      "- Name: unknown\n",
      "  Lower bound: 122.8\n",
      "  Upper bound: 122.8\n",
      "  Number of objectives: 1\n",
      "  Number of constraints: 21\n",
      "  Number of variables: 21\n",
      "  Number of nonzeros: 52\n",
      "  Sense: minimize\n",
      "Solver: \n",
      "- Status: ok\n",
      "  Termination condition: optimal\n",
      "  Statistics: \n",
      "    Branch and bound: \n",
      "      Number of bounded subproblems: 5\n",
      "      Number of created subproblems: 5\n",
      "  Error rc: 0\n",
      "  Time: 0.06083846092224121\n",
      "Solution: \n",
      "- number of solutions: 0\n",
      "  number of solutions displayed: 0\n",
      "\n"
     ]
    }
   ],
   "source": [
    "# 100 execuções para obter o tempo médio:\n",
    "\n",
    "t = []\n",
    "for i in range(100):\n",
    "    solver = pyo.SolverFactory('glpk')\n",
    "    result = solver.solve(model,tee = False)\n",
    "    t.append(result.Solver.Time)\n",
    "\n",
    "print(result)"
   ]
  },
  {
   "cell_type": "code",
   "execution_count": 47,
   "metadata": {},
   "outputs": [
    {
     "name": "stdout",
     "output_type": "stream",
     "text": [
      "0.05828287363052368 0.005580330615349053\n"
     ]
    }
   ],
   "source": [
    "from statistics import *\n",
    "\n",
    "# Tempo médio de execução\n",
    "print(mean(t), stdev(t))"
   ]
  },
  {
   "cell_type": "code",
   "execution_count": 41,
   "metadata": {},
   "outputs": [
    {
     "name": "stdout",
     "output_type": "stream",
     "text": [
      "(1, 2) -- 1.0\n",
      "(2, 3) -- 1.0\n",
      "(3, 4) -- 1.0\n",
      "(4, 1) -- 1.0\n"
     ]
    }
   ],
   "source": [
    "l = list(model.x.keys())\n",
    "for i in l:\n",
    "    if model.x[i]() != 0:\n",
    "        print(i,'--', model.x[i]())"
   ]
  },
  {
   "cell_type": "code",
   "execution_count": null,
   "metadata": {},
   "outputs": [],
   "source": []
  },
  {
   "cell_type": "code",
   "execution_count": null,
   "metadata": {},
   "outputs": [],
   "source": []
  }
 ],
 "metadata": {
  "kernelspec": {
   "display_name": "Python 3",
   "language": "python",
   "name": "python3"
  },
  "language_info": {
   "codemirror_mode": {
    "name": "ipython",
    "version": 3
   },
   "file_extension": ".py",
   "mimetype": "text/x-python",
   "name": "python",
   "nbconvert_exporter": "python",
   "pygments_lexer": "ipython3",
   "version": "3.7.4"
  }
 },
 "nbformat": 4,
 "nbformat_minor": 4
}
