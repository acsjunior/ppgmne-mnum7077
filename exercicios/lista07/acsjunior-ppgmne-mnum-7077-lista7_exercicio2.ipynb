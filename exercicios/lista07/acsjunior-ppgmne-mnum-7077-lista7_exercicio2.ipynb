{
 "cells": [
  {
   "cell_type": "markdown",
   "metadata": {},
   "source": [
    "# Lista de exercícios 7 - MNUM-7077\n",
    "\n",
    "## Exercício 2 (20 pontos)\n",
    "\n",
    "#### Antonio C. da Silva Júnior"
   ]
  },
  {
   "cell_type": "markdown",
   "metadata": {},
   "source": [
    "Bibliotecas e funções úteis:"
   ]
  },
  {
   "cell_type": "code",
   "execution_count": 1,
   "metadata": {},
   "outputs": [],
   "source": [
    "import itertools, copy, time\n",
    "import numpy as np\n",
    "import pyomo.environ as pyo\n",
    "import pandas as pd\n",
    "from statistics import *"
   ]
  },
  {
   "cell_type": "code",
   "execution_count": 2,
   "metadata": {},
   "outputs": [],
   "source": [
    "# Função para criação dos conjuntos que irão originar as restrições de sub-rota de Dantzig\n",
    "def obter_conjuntos_dantzig(cij):\n",
    "    n = len(cij)\n",
    "\n",
    "    # Combinações:\n",
    "    c = []\n",
    "    for i in range(n):\n",
    "        c.append([0,1])\n",
    "\n",
    "    comb = np.array(list(itertools.product(*c)))\n",
    "    comb = np.flip(comb, axis=1)\n",
    "    comb = comb[(np.sum(comb, axis=1) > 1) & (np.sum(comb, axis=1) < (n-1))] # remove todos os vazis, cheios e redundantes\n",
    "\n",
    "    # Definição dos conjuntos Q e não Q:\n",
    "    Q = []\n",
    "    nQ = []\n",
    "    for i in range(len(comb)):\n",
    "        q = []\n",
    "        n_q = []\n",
    "        for j in range(len(comb[i])):\n",
    "            if comb[i,j] == 1:\n",
    "                q.append(j+1)\n",
    "            else:\n",
    "                n_q.append(j+1)\n",
    "        Q.append(q)\n",
    "        nQ.append(n_q)\n",
    "\n",
    "    return Q, nQ"
   ]
  },
  {
   "cell_type": "code",
   "execution_count": 3,
   "metadata": {},
   "outputs": [],
   "source": [
    "# Função para declarar um modelo de designação:\n",
    "\n",
    "def declarar_modelo_designacao(cij):\n",
    "    \n",
    "    n = len(cij)\n",
    "\n",
    "    # Declaração do modelo:\n",
    "    modelo = pyo.ConcreteModel()\n",
    "\n",
    "    # Índices dos pontos:\n",
    "    modelo.M = pyo.RangeSet(n)\n",
    "    modelo.N = pyo.RangeSet(n)\n",
    "\n",
    "    # Matriz de custos:\n",
    "    modelo.c = pyo.Param(modelo.N, modelo.M, initialize=lambda modelo_D, i, j: cij[i-1][j-1])\n",
    "\n",
    "    # Variáveis de decisão:\n",
    "    modelo.x = pyo.Var(modelo.N, modelo.M, within=pyo.Binary)\n",
    "\n",
    "    # Função objetivo:\n",
    "    def f_objetivo(modelo):\n",
    "        return sum(modelo.x[i,j] * modelo.c[i,j] for i in modelo.N for j in modelo.M)\n",
    "\n",
    "    modelo.objetivo = pyo.Objective(rule=f_objetivo, sense=pyo.minimize)\n",
    "\n",
    "    # Restrições\n",
    "\n",
    "    # Cada ponto só recebe de uma única origem:\n",
    "    def f_restr1(modelo, M):\n",
    "        return sum(modelo.x[i,M] for i in modelo.N if i!= M) == 1\n",
    "\n",
    "    modelo.restr1 = pyo.Constraint(modelo.M, rule=f_restr1)\n",
    "\n",
    "    # Cada ponto só envia para um destino:\n",
    "    def f_restr2(modelo, N):\n",
    "        return sum(modelo.x[N,j] for j in modelo.M if j != N) == 1\n",
    "\n",
    "    modelo.restr2 = pyo.Constraint(modelo.N, rule=f_restr2)\n",
    "    \n",
    "    return modelo"
   ]
  },
  {
   "cell_type": "code",
   "execution_count": 4,
   "metadata": {},
   "outputs": [],
   "source": [
    "# Função que resolve o modelo n vezes e devolve o resultado e um vetor com o tempo de cada execução:\n",
    "\n",
    "def resolver_modelo(modelo, n_exec=50):\n",
    "    t = []\n",
    "    for i in range(n_exec):\n",
    "        solver = pyo.SolverFactory('glpk')\n",
    "        result = solver.solve(modelo)\n",
    "        t.append(result.Solver.Time)\n",
    "    return t, result"
   ]
  },
  {
   "cell_type": "code",
   "execution_count": 5,
   "metadata": {},
   "outputs": [],
   "source": [
    "# Função para visualizar os arcos do trajeto:\n",
    "\n",
    "def obter_trajeto(modelo, cij):\n",
    "    n = len(cij)\n",
    "    \n",
    "    l = list(modelo.x.keys())\n",
    "    trajeto = []\n",
    "    for i in l:\n",
    "        if modelo.x[i]() is not None and modelo.x[i]() != 0:\n",
    "            trajeto.append(i)\n",
    "            \n",
    "            \n",
    "    # Ordena o trajeto:\n",
    "    trajeto_ordenado = [trajeto[0]]\n",
    "    while len(trajeto_ordenado) < n:\n",
    "        for i in range(n):\n",
    "            if i+1 == n:\n",
    "                for proximo_arco in trajeto:\n",
    "                    if proximo_arco not in trajeto_ordenado:\n",
    "                        trajeto_ordenado.append(proximo_arco)\n",
    "                        break\n",
    "            else:\n",
    "                ultimo_arco = trajeto_ordenado[len(trajeto_ordenado)-1]\n",
    "                for arco_atual in trajeto:\n",
    "                    if arco_atual not in trajeto_ordenado:\n",
    "                        if arco_atual[0] == ultimo_arco[1]:\n",
    "                            trajeto_ordenado.append(arco_atual)\n",
    "                            break\n",
    "    \n",
    "    print(trajeto_ordenado)\n",
    "    \n",
    "    return trajeto_ordenado"
   ]
  },
  {
   "cell_type": "code",
   "execution_count": 6,
   "metadata": {},
   "outputs": [],
   "source": [
    "# Cálcula a média e o desvio padrão do tempo de execução:\n",
    "\n",
    "def obter_estatisticas(tempo):\n",
    "    media = round(mean(tempo), 4)\n",
    "    dp = round(stdev(tempo), 4)\n",
    "    msg = \" Tempo médio: {media} \\n Desvio padrão: {dp}\".format(media=media, dp=dp)\n",
    "    print(msg)"
   ]
  },
  {
   "cell_type": "code",
   "execution_count": 7,
   "metadata": {},
   "outputs": [],
   "source": [
    " # Calcula o custo do trajeto (quando em formato de lista):\n",
    "    \n",
    "def obter_custo_trajeto(trajeto, cij):\n",
    "    custos = []\n",
    "    for i in range(len(trajeto)):\n",
    "        if i == 0:\n",
    "            custos.append(0)\n",
    "        else:\n",
    "            no_anterior = trajeto[i-1]\n",
    "            no_atual = trajeto[i]\n",
    "            custo = cij[no_anterior][no_atual]\n",
    "            custos.append(custo)\n",
    "    return sum(custos)"
   ]
  },
  {
   "cell_type": "code",
   "execution_count": 8,
   "metadata": {},
   "outputs": [],
   "source": [
    "# Função para resolver pela heurística de inserção do mais próximo ou mais distante\n",
    "\n",
    "def resolver_heuristica_insercao(cij, no_inicial=1, mais_distante=False):\n",
    "    \n",
    "    no_inicial -= no_inicial\n",
    "    n = len(cij) # Número de pontos:\n",
    "    trajeto = [no_inicial] # Inclui o nó inicial no trajeto:\n",
    "\n",
    "    # Identifica o nó mais próximo (ou mais distante) dos nós do trajeto:\n",
    "    def escolher_no(trajeto, cij, no_inicial, mais_distante):\n",
    "        no_escolhido = None\n",
    "        no_ref = None\n",
    "        if mais_distante:\n",
    "            custo_final = -1*float('inf')\n",
    "        else:\n",
    "            custo_final = float('inf')\n",
    "\n",
    "        for no in trajeto:\n",
    "            for j in range(n):\n",
    "                custo = cij[no][j]\n",
    "                if j!= no and j not in trajeto:\n",
    "                    if mais_distante:\n",
    "                        if custo > custo_final:\n",
    "                            custo_final = custo\n",
    "                            no_escolhido = j\n",
    "                            no_ref = no\n",
    "                    else:\n",
    "                        if custo < custo_final:\n",
    "                            custo_final = custo\n",
    "                            no_escolhido = j\n",
    "                            no_ref = no\n",
    "        if no_escolhido is not None:\n",
    "            return no_escolhido, no_ref, custo_final\n",
    "        else:\n",
    "            return None\n",
    "    \n",
    "    # Adiciona o novo nó no trajeto, na posição que resulta o menor custo\n",
    "    def incluir_novo_no(trajeto, cij, no_candidato):\n",
    "        novo_trajeto = []\n",
    "        if len(trajeto) == 1:\n",
    "            novo_trajeto = [no_inicial, no_candidato, no_inicial]\n",
    "        else:\n",
    "            custo_final = float('inf')\n",
    "            posicao_insercao = None\n",
    "            for i in range(1, len(trajeto)):\n",
    "                no_atual = trajeto[i]\n",
    "                no_anterior = trajeto[i-1]\n",
    "                custo_atual = cij[no_anterior][no_atual]\n",
    "                novo_custo = cij[no_anterior][no_candidato] + cij[no_candidato][no_atual]\n",
    "                custo_atualizado = novo_custo - custo_atual\n",
    "                if custo_atualizado < custo_final:\n",
    "                    custo_final = custo_atualizado\n",
    "                    posicao_insercao = i\n",
    "            novo_trajeto = trajeto[0:posicao_insercao] + [no_candidato] + trajeto[posicao_insercao:len(trajeto)] \n",
    "        return novo_trajeto\n",
    "    \n",
    "    # Executa as iterações:\n",
    "    while len(trajeto) <= n:\n",
    "        no_candidato, no_referencia, custo = escolher_no(trajeto, cij, no_inicial, mais_distante)\n",
    "        trajeto = incluir_novo_no(trajeto, cij, no_candidato)\n",
    "        \n",
    "    # Cálcula o custo final do trajeto:\n",
    "    custo_final = obter_custo_trajeto(trajeto, cij)\n",
    "    \n",
    "    # Adiciona 1 em cada valor de nós (para que os índices fiquem de 1 a n)\n",
    "    trajeto_final = [no+1 for no in trajeto]\n",
    "    \n",
    "    return trajeto_final, custo_final"
   ]
  },
  {
   "cell_type": "code",
   "execution_count": 9,
   "metadata": {},
   "outputs": [],
   "source": [
    "def resolver_heuristica_insercao_economica(cij, no_inicial=1):\n",
    "    n = len(cij)\n",
    "    no_inicial -= 1\n",
    "    trajeto = [no_inicial, no_inicial]\n",
    "    \n",
    "    # Insere no trajeto o nó que resulta na rota mais econômica\n",
    "    for k in range(n-1):\n",
    "        custo_final = float('inf')\n",
    "        posicao_insercao = None\n",
    "        no_insercao = None\n",
    "        for i in range(n):\n",
    "            no_candidato = i\n",
    "            if no_candidato not in trajeto:\n",
    "                for j in range(1, len(trajeto)):\n",
    "                    no_atual = trajeto[j]\n",
    "                    no_anterior = trajeto[j-1]\n",
    "                    custo_atual = cij[no_anterior][no_atual]\n",
    "                    novo_custo = cij[no_anterior][no_candidato] + cij[no_candidato][no_atual]\n",
    "                    custo_atualizado = novo_custo - custo_atual\n",
    "                    if custo_atualizado < custo_final:\n",
    "                        custo_final = custo_atualizado\n",
    "                        posicao_insercao = j\n",
    "                        no_insercao = no_candidato\n",
    "        trajeto = trajeto[0:posicao_insercao] + [no_insercao] + trajeto[posicao_insercao:len(trajeto)]\n",
    "    \n",
    "    # Cálcula o custo final do trajeto:\n",
    "    custo_final = obter_custo_trajeto(trajeto, cij)\n",
    "    \n",
    "    # Adiciona 1 em cada valor de nós (para que os índices fiquem de 1 a n)\n",
    "    novo_trajeto = [no+1 for no in trajeto]\n",
    "    \n",
    "    return novo_trajeto, custo_final"
   ]
  },
  {
   "cell_type": "markdown",
   "metadata": {},
   "source": [
    "Matriz de custos:"
   ]
  },
  {
   "cell_type": "code",
   "execution_count": 10,
   "metadata": {},
   "outputs": [
    {
     "data": {
      "text/html": [
       "<div>\n",
       "<style scoped>\n",
       "    .dataframe tbody tr th:only-of-type {\n",
       "        vertical-align: middle;\n",
       "    }\n",
       "\n",
       "    .dataframe tbody tr th {\n",
       "        vertical-align: top;\n",
       "    }\n",
       "\n",
       "    .dataframe thead th {\n",
       "        text-align: right;\n",
       "    }\n",
       "</style>\n",
       "<table border=\"1\" class=\"dataframe\">\n",
       "  <thead>\n",
       "    <tr style=\"text-align: right;\">\n",
       "      <th></th>\n",
       "      <th>0</th>\n",
       "      <th>1</th>\n",
       "      <th>2</th>\n",
       "      <th>3</th>\n",
       "      <th>4</th>\n",
       "      <th>5</th>\n",
       "      <th>6</th>\n",
       "      <th>7</th>\n",
       "      <th>8</th>\n",
       "      <th>9</th>\n",
       "    </tr>\n",
       "  </thead>\n",
       "  <tbody>\n",
       "    <tr>\n",
       "      <th>0</th>\n",
       "      <td>0</td>\n",
       "      <td>749</td>\n",
       "      <td>682</td>\n",
       "      <td>460</td>\n",
       "      <td>794</td>\n",
       "      <td>287</td>\n",
       "      <td>233</td>\n",
       "      <td>521</td>\n",
       "      <td>413</td>\n",
       "      <td>573</td>\n",
       "    </tr>\n",
       "    <tr>\n",
       "      <th>1</th>\n",
       "      <td>749</td>\n",
       "      <td>0</td>\n",
       "      <td>112</td>\n",
       "      <td>294</td>\n",
       "      <td>462</td>\n",
       "      <td>590</td>\n",
       "      <td>525</td>\n",
       "      <td>233</td>\n",
       "      <td>719</td>\n",
       "      <td>827</td>\n",
       "    </tr>\n",
       "    <tr>\n",
       "      <th>2</th>\n",
       "      <td>682</td>\n",
       "      <td>112</td>\n",
       "      <td>0</td>\n",
       "      <td>254</td>\n",
       "      <td>538</td>\n",
       "      <td>495</td>\n",
       "      <td>471</td>\n",
       "      <td>201</td>\n",
       "      <td>713</td>\n",
       "      <td>839</td>\n",
       "    </tr>\n",
       "    <tr>\n",
       "      <th>3</th>\n",
       "      <td>460</td>\n",
       "      <td>294</td>\n",
       "      <td>254</td>\n",
       "      <td>0</td>\n",
       "      <td>453</td>\n",
       "      <td>363</td>\n",
       "      <td>232</td>\n",
       "      <td>61</td>\n",
       "      <td>467</td>\n",
       "      <td>605</td>\n",
       "    </tr>\n",
       "    <tr>\n",
       "      <th>4</th>\n",
       "      <td>794</td>\n",
       "      <td>462</td>\n",
       "      <td>538</td>\n",
       "      <td>453</td>\n",
       "      <td>0</td>\n",
       "      <td>802</td>\n",
       "      <td>584</td>\n",
       "      <td>433</td>\n",
       "      <td>514</td>\n",
       "      <td>527</td>\n",
       "    </tr>\n",
       "    <tr>\n",
       "      <th>5</th>\n",
       "      <td>287</td>\n",
       "      <td>590</td>\n",
       "      <td>495</td>\n",
       "      <td>363</td>\n",
       "      <td>802</td>\n",
       "      <td>0</td>\n",
       "      <td>262</td>\n",
       "      <td>407</td>\n",
       "      <td>598</td>\n",
       "      <td>767</td>\n",
       "    </tr>\n",
       "    <tr>\n",
       "      <th>6</th>\n",
       "      <td>233</td>\n",
       "      <td>525</td>\n",
       "      <td>471</td>\n",
       "      <td>232</td>\n",
       "      <td>584</td>\n",
       "      <td>262</td>\n",
       "      <td>0</td>\n",
       "      <td>293</td>\n",
       "      <td>345</td>\n",
       "      <td>512</td>\n",
       "    </tr>\n",
       "    <tr>\n",
       "      <th>7</th>\n",
       "      <td>521</td>\n",
       "      <td>233</td>\n",
       "      <td>201</td>\n",
       "      <td>61</td>\n",
       "      <td>433</td>\n",
       "      <td>407</td>\n",
       "      <td>293</td>\n",
       "      <td>0</td>\n",
       "      <td>513</td>\n",
       "      <td>643</td>\n",
       "    </tr>\n",
       "    <tr>\n",
       "      <th>8</th>\n",
       "      <td>413</td>\n",
       "      <td>719</td>\n",
       "      <td>713</td>\n",
       "      <td>467</td>\n",
       "      <td>514</td>\n",
       "      <td>598</td>\n",
       "      <td>345</td>\n",
       "      <td>513</td>\n",
       "      <td>0</td>\n",
       "      <td>169</td>\n",
       "    </tr>\n",
       "    <tr>\n",
       "      <th>9</th>\n",
       "      <td>573</td>\n",
       "      <td>827</td>\n",
       "      <td>839</td>\n",
       "      <td>605</td>\n",
       "      <td>527</td>\n",
       "      <td>767</td>\n",
       "      <td>512</td>\n",
       "      <td>643</td>\n",
       "      <td>169</td>\n",
       "      <td>0</td>\n",
       "    </tr>\n",
       "  </tbody>\n",
       "</table>\n",
       "</div>"
      ],
      "text/plain": [
       "     0    1    2    3    4    5    6    7    8    9\n",
       "0    0  749  682  460  794  287  233  521  413  573\n",
       "1  749    0  112  294  462  590  525  233  719  827\n",
       "2  682  112    0  254  538  495  471  201  713  839\n",
       "3  460  294  254    0  453  363  232   61  467  605\n",
       "4  794  462  538  453    0  802  584  433  514  527\n",
       "5  287  590  495  363  802    0  262  407  598  767\n",
       "6  233  525  471  232  584  262    0  293  345  512\n",
       "7  521  233  201   61  433  407  293    0  513  643\n",
       "8  413  719  713  467  514  598  345  513    0  169\n",
       "9  573  827  839  605  527  767  512  643  169    0"
      ]
     },
     "execution_count": 10,
     "metadata": {},
     "output_type": "execute_result"
    }
   ],
   "source": [
    "# Leitura da matriz de um arquivo csv:\n",
    "\n",
    "cij = pd.read_csv(\"matriz_exercicio2.csv\", delimiter=\";\", header=None)\n",
    "cij"
   ]
  },
  {
   "cell_type": "code",
   "execution_count": 11,
   "metadata": {},
   "outputs": [],
   "source": [
    "# Conversão do formato para o formato de matriz\n",
    "cij = cij.to_numpy()"
   ]
  },
  {
   "cell_type": "markdown",
   "metadata": {},
   "source": [
    "###  1 - Modelo com restrições de sub-rota de Dantzig"
   ]
  },
  {
   "cell_type": "markdown",
   "metadata": {},
   "source": [
    "<b>Parâmetros:</b>\n",
    "\n",
    "$c_{ij} = \\text{custo do deslocamento da origem } i \\; (i = 1,...,m) \\text{ para o destino } j \\; (j = 1,...,n)$\n",
    "\n",
    "<br>\n",
    "\n",
    "<b>Variáveis de decisão:</b>\n",
    "\n",
    "$\n",
    "    x_{ij}=\n",
    "    \\begin{cases}\n",
    "      1, & \\text{se o arco } (i,j) \\text{ faz parte do itinerário.} \\\\\n",
    "      0, & \\text{caso contrário}\n",
    "    \\end{cases}\n",
    "$\n",
    "\n",
    "<br>\n",
    "\n",
    "<b>Formulação:</b>\n",
    "\n",
    "$\\text{min }z = \\sum\\limits_{i=1}^{n} \\sum\\limits_{j=1}^{n} c_{ij} x_{ij}$\n",
    "\n",
    "Sujeito a:\n",
    "\n",
    "$\\sum\\limits_{i=1}^{n} x_{ij} = 1 \\;\\;\\; \\forall \\; j=1,...,n$\n",
    "\n",
    "$\\sum\\limits_{j=1}^{n} x_{ij} = 1 \\;\\;\\; \\forall \\; i=1,...,m$\n",
    "\n",
    "$\\sum\\limits_{i \\in Q} \\sum\\limits_{j \\notin Q} x_{ij} \\geq 1 \\;\\;\\; \\forall \\; Q \\subseteq \\{1,...,n\\}, 1 \\leq |Q| \\leq n-1$\n",
    "\n",
    "$x_{ij} \\in \\{0,1\\}$\n"
   ]
  },
  {
   "cell_type": "markdown",
   "metadata": {},
   "source": [
    "#### 1.1 - Resolução"
   ]
  },
  {
   "cell_type": "code",
   "execution_count": 12,
   "metadata": {},
   "outputs": [
    {
     "name": "stdout",
     "output_type": "stream",
     "text": [
      " Tempo médio: 0.0819 \n",
      " Desvio padrão: 0.0078\n"
     ]
    }
   ],
   "source": [
    "# Preparação do modelo para resolução via solver GLPK\n",
    "# Calcula o tempo médio de 50 execuções para o relatório final\n",
    "\n",
    "tempo_preparacao_D = []\n",
    "n_exec = 0\n",
    "\n",
    "while n_exec < 50:\n",
    "    start_time = time.time()\n",
    "\n",
    "    # Lógica para criação dos conjuntos que irão originar as restrições de sub-rota de Dantzig\n",
    "    Q, nQ = obter_conjuntos_dantzig(cij)\n",
    "           \n",
    "    # Declaração do modelo de designação:\n",
    "    modelo_D = declarar_modelo_designacao(cij)\n",
    "\n",
    "    # Inclusão das restrições de sub-rotas de Dantzig:\n",
    "    modelo_D.restr_dantzig = pyo.ConstraintList()\n",
    "    for q, nq in zip(Q, nQ):\n",
    "        modelo_D.restr_dantzig.add(sum(modelo_D.x[i,j] for i in q for j in nq) >= 1)\n",
    "    \n",
    "    n_exec +=1\n",
    "    tempo_preparacao_D.append(time.time() - start_time)\n",
    "\n",
    "# Estatísticas da preparação do modelo:\n",
    "obter_estatisticas(tempo_preparacao_D)"
   ]
  },
  {
   "cell_type": "code",
   "execution_count": 13,
   "metadata": {},
   "outputs": [
    {
     "name": "stdout",
     "output_type": "stream",
     "text": [
      "\n",
      "Problem: \n",
      "- Name: unknown\n",
      "  Lower bound: 2726.0\n",
      "  Upper bound: 2726.0\n",
      "  Number of objectives: 1\n",
      "  Number of constraints: 1023\n",
      "  Number of variables: 91\n",
      "  Number of nonzeros: 23041\n",
      "  Sense: minimize\n",
      "Solver: \n",
      "- Status: ok\n",
      "  Termination condition: optimal\n",
      "  Statistics: \n",
      "    Branch and bound: \n",
      "      Number of bounded subproblems: 1\n",
      "      Number of created subproblems: 1\n",
      "  Error rc: 0\n",
      "  Time: 0.10072946548461914\n",
      "Solution: \n",
      "- number of solutions: 0\n",
      "  number of solutions displayed: 0\n",
      "\n"
     ]
    }
   ],
   "source": [
    "# Resolução através do solver GLPK\n",
    "# Calcula o tempo médio de 50 execuções para o relatório final\n",
    "\n",
    "tempo_resolucao_D, resultado_D = resolver_modelo(modelo_D)\n",
    "print(resultado_D)"
   ]
  },
  {
   "cell_type": "code",
   "execution_count": 14,
   "metadata": {},
   "outputs": [
    {
     "name": "stdout",
     "output_type": "stream",
     "text": [
      "[(1, 6), (6, 7), (7, 4), (4, 8), (8, 3), (3, 2), (2, 5), (5, 10), (10, 9), (9, 1)]\n"
     ]
    }
   ],
   "source": [
    "trajeto_D = obter_trajeto(modelo_D, cij)"
   ]
  },
  {
   "cell_type": "code",
   "execution_count": 15,
   "metadata": {
    "scrolled": true
   },
   "outputs": [
    {
     "name": "stdout",
     "output_type": "stream",
     "text": [
      " Tempo médio: 0.0894 \n",
      " Desvio padrão: 0.008\n"
     ]
    }
   ],
   "source": [
    "# Estatísticas da resolução do modelo:\n",
    "obter_estatisticas(tempo_resolucao_D)"
   ]
  },
  {
   "cell_type": "markdown",
   "metadata": {},
   "source": [
    "###  2 - Modelo com restrições de sub-rota MTZ"
   ]
  },
  {
   "cell_type": "markdown",
   "metadata": {},
   "source": [
    "<b>Parâmetros:</b>\n",
    "\n",
    "$c_{ij} = \\text{custo do deslocamento da origem } i \\; (i = 1,...,m) \\text{ para o destino } j \\; (j = 1,...,n)$\n",
    "\n",
    "<br>\n",
    "\n",
    "<b>Variáveis de decisão:</b>\n",
    "\n",
    "$\n",
    "    x_{ij}=\n",
    "    \\begin{cases}\n",
    "      1, & \\text{se o arco } (i,j) \\text{ faz parte do itinerário.} \\\\\n",
    "      0, & \\text{caso contrário}\n",
    "    \\end{cases}\n",
    "$\n",
    "\n",
    "$u_i = \\text{Variável auxiliar para definição das restrições de sub-rota MTZ} \\;\\;\\; \\forall \\; i=1,...,m$\n",
    "\n",
    "<br>\n",
    "\n",
    "<b>Formulação:</b>\n",
    "\n",
    "$\\text{min }z = \\sum\\limits_{i=1}^{n} \\sum\\limits_{j=1}^{n} c_{ij} x_{ij}$\n",
    "\n",
    "Sujeito a:\n",
    "\n",
    "$\\sum\\limits_{i=1}^{n} x_{ij} = 1 \\;\\;\\; \\forall \\; j=1,...,n$\n",
    "\n",
    "$\\sum\\limits_{j=1}^{n} x_{ij} = 1 \\;\\;\\; \\forall \\; i=1,...,m$\n",
    "\n",
    "$u_1 = 1$\n",
    "\n",
    "$u_i - u_j + nx_{ij} \\leq n-1 \\;\\;\\; \\forall \\; i,j \\in \\{2,...,n\\}, i \\neq j$\n",
    "\n",
    "$x_{ij} \\in \\{0,1\\}$\n",
    "\n",
    "$u_i \\geq 0$"
   ]
  },
  {
   "cell_type": "markdown",
   "metadata": {},
   "source": [
    "#### 2.1 - Resolução"
   ]
  },
  {
   "cell_type": "code",
   "execution_count": 16,
   "metadata": {},
   "outputs": [
    {
     "name": "stdout",
     "output_type": "stream",
     "text": [
      " Tempo médio: 0.0047 \n",
      " Desvio padrão: 0.0043\n"
     ]
    }
   ],
   "source": [
    "# Preparação do modelo para resolução via solver GLPK\n",
    "# Calcula o tempo médio de 50 execuções para o relatório final\n",
    "n = len(cij)\n",
    "\n",
    "tempo_preparacao_MTZ = []\n",
    "n_exec = 0\n",
    "\n",
    "while n_exec < 50:\n",
    "    start_time = time.time()\n",
    "\n",
    "   # Declaração do modelo:\n",
    "    modelo_MTZ = declarar_modelo_designacao(cij)\n",
    "\n",
    "    # Índice para a variável auxiliar u:\n",
    "    modelo_MTZ.U = pyo.RangeSet(2,n)\n",
    "\n",
    "    # Váriavel auxiliar u:\n",
    "    modelo_MTZ.u = pyo.Var(modelo_MTZ.N, within=pyo.NonNegativeIntegers,bounds=(0,n-1))\n",
    "\n",
    "    # Restrições de sub-rota MTZ:\n",
    "    def f_MTZ(modelo, i, j):\n",
    "        if i!=j: \n",
    "            return modelo.u[i] - modelo.u[j] + modelo.x[i,j] * n <= n-1\n",
    "        else:\n",
    "            return modelo.u[i] - modelo.u[i] == 0 # sem efeito no modelo\n",
    "\n",
    "    modelo_MTZ.restr_MTZ = pyo.Constraint(modelo_MTZ.U, modelo_MTZ.N, rule=f_MTZ)\n",
    "    \n",
    "    n_exec +=1\n",
    "    tempo_preparacao_MTZ.append(time.time() - start_time)\n",
    "\n",
    "# Estatísticas da preparação do modelo:\n",
    "obter_estatisticas(tempo_preparacao_MTZ)"
   ]
  },
  {
   "cell_type": "code",
   "execution_count": 17,
   "metadata": {},
   "outputs": [
    {
     "name": "stdout",
     "output_type": "stream",
     "text": [
      "\n",
      "Problem: \n",
      "- Name: unknown\n",
      "  Lower bound: 2726.0\n",
      "  Upper bound: 2726.0\n",
      "  Number of objectives: 1\n",
      "  Number of constraints: 111\n",
      "  Number of variables: 101\n",
      "  Number of nonzeros: 424\n",
      "  Sense: minimize\n",
      "Solver: \n",
      "- Status: ok\n",
      "  Termination condition: optimal\n",
      "  Statistics: \n",
      "    Branch and bound: \n",
      "      Number of bounded subproblems: 101\n",
      "      Number of created subproblems: 101\n",
      "  Error rc: 0\n",
      "  Time: 0.06582498550415039\n",
      "Solution: \n",
      "- number of solutions: 0\n",
      "  number of solutions displayed: 0\n",
      "\n"
     ]
    }
   ],
   "source": [
    "# Resolução através do solver GLPK\n",
    "# Calcula o tempo médio de 50 execuções para o relatório final\n",
    "\n",
    "tempo_MTZ, resultado_MTZ = resolver_modelo(modelo_MTZ)\n",
    "print(resultado_MTZ)"
   ]
  },
  {
   "cell_type": "code",
   "execution_count": 18,
   "metadata": {},
   "outputs": [
    {
     "name": "stdout",
     "output_type": "stream",
     "text": [
      "[(1, 6), (6, 7), (7, 4), (4, 8), (8, 3), (3, 2), (2, 5), (5, 10), (10, 9), (9, 1)]\n"
     ]
    }
   ],
   "source": [
    "trajeto_MTZ = obter_trajeto(modelo_MTZ, cij)"
   ]
  },
  {
   "cell_type": "code",
   "execution_count": 19,
   "metadata": {},
   "outputs": [
    {
     "name": "stdout",
     "output_type": "stream",
     "text": [
      " Tempo médio: 0.0638 \n",
      " Desvio padrão: 0.0031\n"
     ]
    }
   ],
   "source": [
    "obter_estatisticas(tempo_MTZ)"
   ]
  },
  {
   "cell_type": "markdown",
   "metadata": {},
   "source": [
    "###  3 - Heurística de inserção do mais próximo"
   ]
  },
  {
   "cell_type": "code",
   "execution_count": 20,
   "metadata": {},
   "outputs": [
    {
     "name": "stdout",
     "output_type": "stream",
     "text": [
      " Tempo médio: 0.0004 \n",
      " Desvio padrão: 0.0005\n"
     ]
    }
   ],
   "source": [
    "# Executa 50 vezes para obter o tempo médio:\n",
    "\n",
    "t_himp = []\n",
    "n_exec = 0\n",
    "while n_exec < 50:\n",
    "    start_time = time.time()\n",
    "    trajeto_himp, custo_himp = resolver_heuristica_insercao(cij)\n",
    "    n_exec +=1\n",
    "    t_himp.append(time.time() - start_time)\n",
    "\n",
    "obter_estatisticas(t_himp)"
   ]
  },
  {
   "cell_type": "code",
   "execution_count": 21,
   "metadata": {},
   "outputs": [
    {
     "name": "stdout",
     "output_type": "stream",
     "text": [
      "Trajeto final: [1, 6, 3, 2, 5, 8, 4, 7, 9, 10, 1]\n",
      "Custo final: 3169\n"
     ]
    }
   ],
   "source": [
    "print(\"Trajeto final:\", trajeto_himp)\n",
    "print(\"Custo final:\", custo_himp)"
   ]
  },
  {
   "cell_type": "markdown",
   "metadata": {},
   "source": [
    "###  4 - Heurística de inserção do mais distante"
   ]
  },
  {
   "cell_type": "code",
   "execution_count": 22,
   "metadata": {
    "scrolled": true
   },
   "outputs": [
    {
     "name": "stdout",
     "output_type": "stream",
     "text": [
      " Tempo médio: 0.0004 \n",
      " Desvio padrão: 0.0005\n"
     ]
    }
   ],
   "source": [
    "# Executa 50 vezes para obter o tempo médio:\n",
    "\n",
    "t_himd = []\n",
    "n_exec = 0\n",
    "while n_exec < 50:\n",
    "    start_time = time.time()\n",
    "    trajeto_himd, custo_himd = resolver_heuristica_insercao(cij, mais_distante=True)\n",
    "    n_exec +=1\n",
    "    t_himd.append(time.time() - start_time)\n",
    "\n",
    "obter_estatisticas(t_himd)"
   ]
  },
  {
   "cell_type": "code",
   "execution_count": 23,
   "metadata": {},
   "outputs": [
    {
     "name": "stdout",
     "output_type": "stream",
     "text": [
      "Trajeto final: [1, 6, 7, 4, 8, 3, 2, 5, 10, 9, 1]\n",
      "Custo final: 2726\n"
     ]
    }
   ],
   "source": [
    "print(\"Trajeto final:\", trajeto_himd)\n",
    "print(\"Custo final:\", custo_himd)"
   ]
  },
  {
   "cell_type": "markdown",
   "metadata": {},
   "source": [
    "###  5 - Heurística de inserção mais econômica"
   ]
  },
  {
   "cell_type": "code",
   "execution_count": 24,
   "metadata": {},
   "outputs": [
    {
     "name": "stdout",
     "output_type": "stream",
     "text": [
      " Tempo médio: 0.0003 \n",
      " Desvio padrão: 0.0004\n"
     ]
    }
   ],
   "source": [
    "# Executa 50 vezes para obter o tempo médio:\n",
    "\n",
    "t_hime = []\n",
    "n_exec = 0\n",
    "while n_exec < 50:\n",
    "    start_time = time.time()\n",
    "    trajeto_hime, custo_hime = resolver_heuristica_insercao_economica(cij)\n",
    "    n_exec +=1\n",
    "    t_hime.append(time.time() - start_time)\n",
    "\n",
    "obter_estatisticas(t_hime)"
   ]
  },
  {
   "cell_type": "code",
   "execution_count": 25,
   "metadata": {},
   "outputs": [
    {
     "name": "stdout",
     "output_type": "stream",
     "text": [
      "Trajeto final: [1, 6, 3, 2, 5, 8, 4, 7, 9, 10, 1]\n",
      "Custo final: 3169\n"
     ]
    }
   ],
   "source": [
    "print(\"Trajeto final:\", trajeto_hime)\n",
    "print(\"Custo final:\", custo_hime)"
   ]
  },
  {
   "cell_type": "code",
   "execution_count": null,
   "metadata": {},
   "outputs": [],
   "source": []
  }
 ],
 "metadata": {
  "kernelspec": {
   "display_name": "Python 3",
   "language": "python",
   "name": "python3"
  },
  "language_info": {
   "codemirror_mode": {
    "name": "ipython",
    "version": 3
   },
   "file_extension": ".py",
   "mimetype": "text/x-python",
   "name": "python",
   "nbconvert_exporter": "python",
   "pygments_lexer": "ipython3",
   "version": "3.7.9"
  }
 },
 "nbformat": 4,
 "nbformat_minor": 4
}
