{
 "cells": [
  {
   "cell_type": "code",
   "execution_count": 42,
   "metadata": {},
   "outputs": [],
   "source": [
    "# Matriz de custos:\n",
    "\n",
    "cost_matrix = [[0, 49, 46,6, 80,8, 67,2, 35,4, 68,7, 53,6, 57,8, 73,9],\n",
    "               [49, 0, 59,8, 37, 37,1, 23,4, 70,2, 48,1, 27, 41,8],\n",
    "               [46,6, 59,8, 0, 70,2, 47,3, 64,8, 23, 20,1, 83,2, 52,6],\n",
    "               [80,8, 37, 70,2, 0, 23,9, 60,4, 68,2, 51, 57,3, 21,3],\n",
    "               [67,2, 37,1, 47,3, 23,9, 0, 57,7, 44,6, 27,5, 63,5, 6,7],\n",
    "               [35,4, 23,4, 64,8, 60,4, 57,7, 0, 81,2, 60, 22,5, 63,3],\n",
    "               [68,7, 70,2, 23, 68,2, 44,6, 81,2, 0, 22,1, 96,3, 47,4],\n",
    "               [53,6, 48,1, 20,1, 51, 27,5, 60, 22,1, 0, 74,2, 32,6],\n",
    "               [57,8, 27, 83,2, 57,3, 63,5, 22,5, 96,3, 74,2, 0, 67,5],\n",
    "               [73,9, 41,8, 52,6, 21,3, 6,7, 63,3, 47,4, 32,6, 67,5, 0]]"
   ]
  },
  {
   "cell_type": "code",
   "execution_count": 43,
   "metadata": {},
   "outputs": [
    {
     "name": "stdout",
     "output_type": "stream",
     "text": [
      "10\n"
     ]
    }
   ],
   "source": [
    "# Número de pontos:\n",
    "\n",
    "n = len(cost_matrix)\n",
    "print(n)"
   ]
  },
  {
   "cell_type": "code",
   "execution_count": 44,
   "metadata": {},
   "outputs": [],
   "source": [
    "# Formulação do modelo:\n",
    "\n",
    "import pyomo.environ as pyo\n",
    "\n",
    "model = pyo.ConcreteModel() # declaração do modelo\n",
    "\n",
    "\n",
    "# Índices dos pontos (1,...,n):\n",
    "model.M = pyo.RangeSet(n)                \n",
    "model.N = pyo.RangeSet(n)\n",
    "\n",
    "\n",
    "# Variáveis de decisão xij:\n",
    "model.x = pyo.Var(model.N, model.M, within=pyo.Binary)\n",
    "\n",
    "\n",
    "# Valores da matriz de custos:\n",
    "model.c = pyo.Param(model.M, model.N, initialize=lambda model, i, j: cost_matrix[i-1][j-1]) # -1 pois o RangeSet indexa de 1 a n\n",
    "\n",
    "\n",
    "# Função objetivo:\n",
    "def obj_func(model):\n",
    "    return sum(model.x[i,j] * model.c[i,j] for i in model.M for j in model.N)\n",
    "\n",
    "model.objective = pyo.Objective(rule=obj_func, sense=pyo.minimize)\n",
    "\n",
    "\n",
    "# Restrições:\n",
    "\n",
    "def rule_const1(model, M):\n",
    "    return sum(model.x[i, M] for i in model.N) == 1\n",
    "\n",
    "model.const1 = pyo.Constraint(model.M, rule=rule_const1)\n",
    "\n",
    "\n",
    "def rule_const2(model,N):\n",
    "    return sum(model.x[N,j] for j in model.M) == 1\n",
    "\n",
    "model.const2 = pyo.Constraint(model.N, rule=rule_const2)"
   ]
  },
  {
   "cell_type": "code",
   "execution_count": 45,
   "metadata": {},
   "outputs": [],
   "source": [
    "# Preparação para inclusão das restrições de sub-rota de Dantzig\n",
    "\n",
    "# Combinações:\n",
    "import itertools\n",
    "import numpy as np\n",
    "\n",
    "c = []\n",
    "for i in range(n):\n",
    "    c.append([0,1])\n",
    "    \n",
    "comb = np.array(list(itertools.product(*c)))\n",
    "comb = np.flip(comb, axis=1)\n",
    "comb = comb[1:(len(comb)-1),:] # remove todos os vazis e todos os cheios"
   ]
  },
  {
   "cell_type": "code",
   "execution_count": 46,
   "metadata": {},
   "outputs": [],
   "source": [
    "# Conjuntos Q e nãoQ:\n",
    "Q = []\n",
    "nQ = []\n",
    "for i in range(len(comb)):\n",
    "    q = []\n",
    "    n_q = []\n",
    "    for j in range(len(comb[i])):\n",
    "        if comb[i,j] == 1:\n",
    "            q.append(j+1)\n",
    "        else:\n",
    "            n_q.append(j+1)\n",
    "    Q.append(q)\n",
    "    nQ.append(n_q)"
   ]
  },
  {
   "cell_type": "code",
   "execution_count": 47,
   "metadata": {},
   "outputs": [],
   "source": [
    "# Adiciona as restrições de sub-rota de Dantzig no modelo:\n",
    "\n",
    "model.Dconstraints = pyo.ConstraintList()\n",
    "\n",
    "for q, nq in zip(Q, nQ):\n",
    "    model.Dconstraints.add(sum(model.x[i,j] for i in q for j in nq) >= 1)"
   ]
  },
  {
   "cell_type": "code",
   "execution_count": 48,
   "metadata": {},
   "outputs": [
    {
     "name": "stdout",
     "output_type": "stream",
     "text": [
      "\n",
      "Problem: \n",
      "- Name: unknown\n",
      "  Lower bound: 79.0\n",
      "  Upper bound: 79.0\n",
      "  Number of objectives: 1\n",
      "  Number of constraints: 1043\n",
      "  Number of variables: 101\n",
      "  Number of nonzeros: 23241\n",
      "  Sense: minimize\n",
      "Solver: \n",
      "- Status: ok\n",
      "  Termination condition: optimal\n",
      "  Statistics: \n",
      "    Branch and bound: \n",
      "      Number of bounded subproblems: 1\n",
      "      Number of created subproblems: 1\n",
      "  Error rc: 0\n",
      "  Time: 0.20650291442871094\n",
      "Solution: \n",
      "- number of solutions: 0\n",
      "  number of solutions displayed: 0\n",
      "\n"
     ]
    }
   ],
   "source": [
    "result = pyo.SolverFactory('glpk').solve(model)\n",
    "print(result)"
   ]
  },
  {
   "cell_type": "code",
   "execution_count": 33,
   "metadata": {},
   "outputs": [],
   "source": [
    "# 50 execuções para obter o tempo médio:\n",
    "t = []\n",
    "for i in range(50):\n",
    "    solver = pyo.SolverFactory('glpk')\n",
    "    result = solver.solve(model,tee = False)\n",
    "    t.append(result.Solver.Time)"
   ]
  },
  {
   "cell_type": "code",
   "execution_count": 34,
   "metadata": {},
   "outputs": [
    {
     "name": "stdout",
     "output_type": "stream",
     "text": [
      "Tempo médio: 0.2639672803878784  -----  Desvio padrão: 0.027300799027791357\n"
     ]
    }
   ],
   "source": [
    "from statistics import *\n",
    "\n",
    "# Tempo médio de execução\n",
    "print(\"Tempo médio:\", mean(t), \" -----  Desvio padrão:\", stdev(t))"
   ]
  },
  {
   "cell_type": "code",
   "execution_count": 49,
   "metadata": {},
   "outputs": [
    {
     "name": "stdout",
     "output_type": "stream",
     "text": [
      "(1, 10) -- 1.0\n",
      "(2, 7) -- 1.0\n",
      "(3, 5) -- 1.0\n",
      "(4, 6) -- 1.0\n",
      "(5, 2) -- 1.0\n",
      "(6, 1) -- 1.0\n",
      "(7, 4) -- 1.0\n",
      "(8, 9) -- 1.0\n",
      "(9, 3) -- 1.0\n",
      "(10, 8) -- 1.0\n"
     ]
    }
   ],
   "source": [
    "# Trajeto:\n",
    "l = list(model.x.keys())\n",
    "for i in l:\n",
    "    if model.x[i]() != 0:\n",
    "        print(i,'--', model.x[i]())"
   ]
  }
 ],
 "metadata": {
  "kernelspec": {
   "display_name": "Python 3",
   "language": "python",
   "name": "python3"
  },
  "language_info": {
   "codemirror_mode": {
    "name": "ipython",
    "version": 3
   },
   "file_extension": ".py",
   "mimetype": "text/x-python",
   "name": "python",
   "nbconvert_exporter": "python",
   "pygments_lexer": "ipython3",
   "version": "3.7.9"
  }
 },
 "nbformat": 4,
 "nbformat_minor": 4
}
