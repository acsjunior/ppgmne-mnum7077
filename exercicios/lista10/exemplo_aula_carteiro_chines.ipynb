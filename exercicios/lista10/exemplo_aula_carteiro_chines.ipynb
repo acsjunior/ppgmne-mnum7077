{
 "cells": [
  {
   "cell_type": "code",
   "execution_count": 1,
   "metadata": {},
   "outputs": [],
   "source": [
    "import numpy as np\n",
    "import networkx as nx"
   ]
  },
  {
   "cell_type": "code",
   "execution_count": 2,
   "metadata": {},
   "outputs": [],
   "source": [
    "# Matriz de custo:\n",
    "cij = np.array([[0, 3, 4, 0, 0, 0],\n",
    "                [3, 0, 8, 7, 0, 0],\n",
    "                [4, 8, 0, 7, 4, 3],\n",
    "                [0, 7, 7, 0, 1, 0],\n",
    "                [0, 0, 4, 1, 0, 2],\n",
    "                [0, 0, 3, 0, 2, 0]])"
   ]
  },
  {
   "cell_type": "code",
   "execution_count": 3,
   "metadata": {},
   "outputs": [
    {
     "data": {
      "text/plain": [
       "array([[0, 1, 1, 0, 0, 0],\n",
       "       [1, 0, 1, 1, 0, 0],\n",
       "       [1, 1, 0, 1, 1, 1],\n",
       "       [0, 1, 1, 0, 1, 0],\n",
       "       [0, 0, 1, 1, 0, 1],\n",
       "       [0, 0, 1, 0, 1, 0]])"
      ]
     },
     "execution_count": 3,
     "metadata": {},
     "output_type": "execute_result"
    }
   ],
   "source": [
    "# Matriz de adjacencias:\n",
    "aij = np.where(cij > 0, 1, cij)\n",
    "aij"
   ]
  },
  {
   "cell_type": "code",
   "execution_count": 4,
   "metadata": {},
   "outputs": [
    {
     "data": {
      "image/png": "[encoded data removed]",
      "text/plain": [
       "<Figure size 432x288 with 1 Axes>"
      ]
     },
     "metadata": {},
     "output_type": "display_data"
    }
   ],
   "source": [
    "adj_matriz = nx.from_numpy_matrix(aij)\n",
    "nx.draw(adj_matriz, with_labels=True) "
   ]
  },
  {
   "cell_type": "code",
   "execution_count": 5,
   "metadata": {},
   "outputs": [
    {
     "data": {
      "text/plain": [
       "array([[ 0.,  3.,  4., inf, inf, inf],\n",
       "       [ 3.,  0.,  8.,  7., inf, inf],\n",
       "       [ 4.,  8.,  0.,  7.,  4.,  3.],\n",
       "       [inf,  7.,  7.,  0.,  1., inf],\n",
       "       [inf, inf,  4.,  1.,  0.,  2.],\n",
       "       [inf, inf,  3., inf,  2.,  0.]])"
      ]
     },
     "execution_count": 5,
     "metadata": {},
     "output_type": "execute_result"
    }
   ],
   "source": [
    "# Matriz de custos de Floyd:\n",
    "cij_floyd = np.where(cij == 0, float('inf'), cij)\n",
    "np.fill_diagonal(cij_floyd, 0)\n",
    "cij_floyd"
   ]
  },
  {
   "cell_type": "code",
   "execution_count": 6,
   "metadata": {},
   "outputs": [
    {
     "data": {
      "text/plain": [
       "array([[0., 0., 0., 0., 0., 0.],\n",
       "       [1., 1., 1., 1., 1., 1.],\n",
       "       [2., 2., 2., 2., 2., 2.],\n",
       "       [3., 3., 3., 3., 3., 3.],\n",
       "       [4., 4., 4., 4., 4., 4.],\n",
       "       [5., 5., 5., 5., 5., 5.]])"
      ]
     },
     "execution_count": 6,
     "metadata": {},
     "output_type": "execute_result"
    }
   ],
   "source": [
    "# Matriz de trajetos de Floyd:\n",
    "n = len(cij)\n",
    "\n",
    "tij = cij_floyd.copy()\n",
    "for i in range(n):\n",
    "    tij[i,:] = i\n",
    "    \n",
    "tij"
   ]
  },
  {
   "cell_type": "code",
   "execution_count": 7,
   "metadata": {},
   "outputs": [],
   "source": [
    "# Algoritmo de Floyd:\n",
    "for k in range(n):\n",
    "    for i in range(n):\n",
    "        for j in range(n):\n",
    "            if i != k and j != k:\n",
    "                custo_ik_kj = cij_floyd[i][k] + cij_floyd[k][j]\n",
    "                custo_ij = cij_floyd[i][j]\n",
    "                if custo_ik_kj < custo_ij:\n",
    "                    cij_floyd[i][j] = custo_ik_kj\n",
    "                    tij[i][j] = tij[k][j]"
   ]
  },
  {
   "cell_type": "code",
   "execution_count": 8,
   "metadata": {},
   "outputs": [
    {
     "data": {
      "text/plain": [
       "array([[ 0.,  3.,  4.,  9.,  8.,  7.],\n",
       "       [ 3.,  0.,  7.,  7.,  8., 10.],\n",
       "       [ 4.,  7.,  0.,  5.,  4.,  3.],\n",
       "       [ 9.,  7.,  5.,  0.,  1.,  3.],\n",
       "       [ 8.,  8.,  4.,  1.,  0.,  2.],\n",
       "       [ 7., 10.,  3.,  3.,  2.,  0.]])"
      ]
     },
     "execution_count": 8,
     "metadata": {},
     "output_type": "execute_result"
    }
   ],
   "source": [
    "cij_floyd"
   ]
  },
  {
   "cell_type": "code",
   "execution_count": 9,
   "metadata": {},
   "outputs": [
    {
     "data": {
      "text/plain": [
       "array([[0., 0., 0., 4., 2., 2.],\n",
       "       [1., 1., 0., 1., 3., 2.],\n",
       "       [2., 0., 2., 4., 2., 2.],\n",
       "       [2., 3., 4., 3., 3., 4.],\n",
       "       [2., 3., 4., 4., 4., 4.],\n",
       "       [2., 0., 5., 4., 5., 5.]])"
      ]
     },
     "execution_count": 9,
     "metadata": {},
     "output_type": "execute_result"
    }
   ],
   "source": [
    "tij"
   ]
  },
  {
   "cell_type": "code",
   "execution_count": 10,
   "metadata": {},
   "outputs": [
    {
     "data": {
      "text/plain": [
       "[1, 2, 3, 4]"
      ]
     },
     "execution_count": 10,
     "metadata": {},
     "output_type": "execute_result"
    }
   ],
   "source": [
    "# Identificar vétices com número ímpar de arestas:\n",
    "\n",
    "n_arestas = []\n",
    "for i in range(n):\n",
    "    count = 0\n",
    "    for j in range(n):\n",
    "        if cij[i][j] > 0:\n",
    "            count += 1\n",
    "    n_arestas.append(count)\n",
    "\n",
    "\n",
    "vertices_impares = []\n",
    "for i in range(len(n_arestas)):\n",
    "    if n_arestas[i] % 2 != 0:\n",
    "        vertices_impares.append(i)\n",
    "        \n",
    "vertices_impares"
   ]
  },
  {
   "cell_type": "code",
   "execution_count": 11,
   "metadata": {},
   "outputs": [],
   "source": [
    "# Achar o matching: juntar os nós 2 a 2 minimizando o custo total:\n",
    "vertices_verificados = []\n",
    "arestas_selecionadas = []\n",
    "custos_arestas = []\n",
    "\n",
    "while len(vertices_verificados) < len(vertices_impares):\n",
    "    menor_custo = float('inf')\n",
    "    aresta_menor_custo = None\n",
    "    vertices_menor_custo = None\n",
    "    for vi in vertices_impares:\n",
    "        if vi not in vertices_verificados:\n",
    "            for vj in vertices_impares:\n",
    "                if vj not in vertices_verificados:\n",
    "                    if vi != vj:\n",
    "                        custo = cij_floyd[vi][vj]\n",
    "                        if custo < menor_custo:\n",
    "                            menor_custo = custo\n",
    "                            aresta_menor_custo = (vi,vj)\n",
    "                            vertices_menor_custo = [vi,vj]    \n",
    "    vertices_verificados += vertices_menor_custo\n",
    "    arestas_selecionadas.append(aresta_menor_custo)\n",
    "    custos_arestas.append(menor_custo)"
   ]
  },
  {
   "cell_type": "code",
   "execution_count": 12,
   "metadata": {},
   "outputs": [
    {
     "data": {
      "text/plain": [
       "[(3, 4), (1, 2)]"
      ]
     },
     "execution_count": 12,
     "metadata": {},
     "output_type": "execute_result"
    }
   ],
   "source": [
    "arestas_selecionadas # matching escolhido"
   ]
  },
  {
   "cell_type": "code",
   "execution_count": 13,
   "metadata": {},
   "outputs": [
    {
     "data": {
      "text/plain": [
       "[1.0, 7.0]"
      ]
     },
     "execution_count": 13,
     "metadata": {},
     "output_type": "execute_result"
    }
   ],
   "source": [
    "custos_arestas"
   ]
  },
  {
   "cell_type": "code",
   "execution_count": 14,
   "metadata": {},
   "outputs": [],
   "source": [
    "# Recupera o trajeto pela matriz de trajetos de Floyd:\n",
    "def recuperar_trajeto_floyd(no_inicial, no_final, tij):\n",
    "    trajeto = []\n",
    "    c = int(tij[no_inicial][no_final])\n",
    "    while len(trajeto) < len(tij):\n",
    "        if c != no_inicial:\n",
    "            a = (no_inicial, c)\n",
    "            trajeto.append(a)\n",
    "            no_inicial = c\n",
    "        else:\n",
    "            a = (no_inicial, no_final)\n",
    "            trajeto.append(a)\n",
    "            no_inicial = c\n",
    "            break\n",
    "    return trajeto"
   ]
  },
  {
   "cell_type": "code",
   "execution_count": 15,
   "metadata": {},
   "outputs": [
    {
     "data": {
      "text/plain": [
       "[(3, 4), (1, 0), (0, 2)]"
      ]
     },
     "execution_count": 15,
     "metadata": {},
     "output_type": "execute_result"
    }
   ],
   "source": [
    "# Recupera os trajetos e inclui as novas ligações na matriz de adjacência:\n",
    "novas_arestas = []\n",
    "for aresta in arestas_selecionadas:\n",
    "    trajeto = recuperar_trajeto_floyd(aresta[0], aresta[1], tij)\n",
    "    novas_arestas += trajeto\n",
    "\n",
    "novas_arestas"
   ]
  },
  {
   "cell_type": "code",
   "execution_count": 16,
   "metadata": {},
   "outputs": [],
   "source": [
    "for aresta in novas_arestas:\n",
    "    aij[aresta[0]][aresta[1]] += 1\n",
    "    aij[aresta[1]][aresta[0]] += 1"
   ]
  },
  {
   "cell_type": "code",
   "execution_count": 17,
   "metadata": {},
   "outputs": [
    {
     "data": {
      "text/plain": [
       "array([[0, 2, 2, 0, 0, 0],\n",
       "       [2, 0, 1, 1, 0, 0],\n",
       "       [2, 1, 0, 1, 1, 1],\n",
       "       [0, 1, 1, 0, 2, 0],\n",
       "       [0, 0, 1, 2, 0, 1],\n",
       "       [0, 0, 1, 0, 1, 0]])"
      ]
     },
     "execution_count": 17,
     "metadata": {},
     "output_type": "execute_result"
    }
   ],
   "source": [
    "aij"
   ]
  },
  {
   "cell_type": "code",
   "execution_count": 18,
   "metadata": {},
   "outputs": [],
   "source": [
    "def obter_circuitos(aij):\n",
    "    n = len(aij)\n",
    "    circuitos = []\n",
    "    for i in range(n):\n",
    "        circuito = []\n",
    "        loop = True\n",
    "        while loop:\n",
    "            for j in range(n):\n",
    "                a = aij[i][j]\n",
    "                if a > 0:\n",
    "                    circuito.append((i,j))\n",
    "                    aij[i][j] -= 1\n",
    "                    aij[j][i] -= 1\n",
    "                    break\n",
    "            if a == 0:\n",
    "                loop = False\n",
    "                circuitos.append(circuito)\n",
    "            i = j\n",
    "        if sum(list(sum(aij))) == 0:\n",
    "            break\n",
    "    return circuitos"
   ]
  },
  {
   "cell_type": "code",
   "execution_count": 19,
   "metadata": {},
   "outputs": [
    {
     "data": {
      "text/plain": [
       "[[(0, 1), (1, 0), (0, 2), (2, 0)],\n",
       " [(1, 2), (2, 3), (3, 1)],\n",
       " [(2, 4), (4, 3), (3, 4), (4, 5), (5, 2)]]"
      ]
     },
     "execution_count": 19,
     "metadata": {},
     "output_type": "execute_result"
    }
   ],
   "source": [
    "circuitos = obter_circuitos(aij)\n",
    "circuitos"
   ]
  },
  {
   "cell_type": "code",
   "execution_count": 30,
   "metadata": {},
   "outputs": [
    {
     "data": {
      "text/plain": [
       "[(0, 1),\n",
       " (1, 2),\n",
       " (2, 3),\n",
       " (3, 1),\n",
       " (1, 0),\n",
       " (0, 2),\n",
       " (2, 4),\n",
       " (4, 3),\n",
       " (3, 4),\n",
       " (4, 5),\n",
       " (5, 2),\n",
       " (2, 0)]"
      ]
     },
     "execution_count": 30,
     "metadata": {},
     "output_type": "execute_result"
    }
   ],
   "source": [
    "# Montar circuito euleriano:\n",
    "circuito_euleriano = []\n",
    "for aresta in circuitos[0]:\n",
    "    circuito_euleriano.append(aresta)\n",
    "    for circuito in circuitos:\n",
    "        if circuito != circuitos[0] and circuito[0][0] == aresta[1]:\n",
    "            circuito_euleriano += circuito\n",
    "circuito_euleriano"
   ]
  }
 ],
 "metadata": {
  "kernelspec": {
   "display_name": "Python 3",
   "language": "python",
   "name": "python3"
  },
  "language_info": {
   "codemirror_mode": {
    "name": "ipython",
    "version": 3
   },
   "file_extension": ".py",
   "mimetype": "text/x-python",
   "name": "python",
   "nbconvert_exporter": "python",
   "pygments_lexer": "ipython3",
   "version": "3.7.9"
  }
 },
 "nbformat": 4,
 "nbformat_minor": 4
}
